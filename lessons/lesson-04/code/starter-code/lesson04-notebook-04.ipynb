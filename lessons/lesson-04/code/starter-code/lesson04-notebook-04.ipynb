{
 "cells": [
  {
   "cell_type": "code",
   "execution_count": null,
   "metadata": {},
   "outputs": [],
   "source": [
    "%matplotlib inline\n",
    "import matplotlib.pyplot as plt\n",
    "import numpy as np\n",
    "import sympy as sy\n",
    "import pandas as pd\n",
    "from scipy import interpolate, stats"
   ]
  },
  {
   "cell_type": "markdown",
   "metadata": {},
   "source": [
    "## Deriving the Equation of the Line\n",
    "\n",
    "In general, we have some line of best fit $y$ given by:\n",
    "\n",
    "$$y = a + bx$$\n",
    "\n",
    "If we have some set of points $(x_1, y_1), (x_2, y_2), (x_3, y_3)...(x_n, y_n)$.  We need to minimize the sum of squares of residuals here, so we would have a number of values determined by:\n",
    "\n",
    "$$[y_1 - (a + bx_1)]^2 + [y_2 - (a + bx_2)]^2 + [y_3 - (a + bx_3)]^2 + ... $$\n",
    "\n",
    "which we can rewrite in summation notation as \n",
    "\n",
    "$$\\sum_{i=1}^n[y_i - (a + bx_i)]^2$$\n",
    "\n",
    "We can consider this as a function in terms of the variable $a$ that we are seeking to minimize.\n",
    "\n",
    "$$g(a) = \\sum_{i=1}^n[y_i - (a + bx_i)]^2$$\n",
    "\n",
    "From here, we can apply our familiar strategy of differentiating the function and locating the critical values.  We are looking for the derivative of a sum, which turns out to be equivalent to the sum of the derivatives, hence we have\n",
    "\n",
    "$$g'(a) = \\sum_{i=1}^n \\frac{d}{da}[y_i - (a + bx_i)]^2$$\n",
    "\n",
    "$$g'(a) = \\sum_{i=1}^n 2[y_i -a - bx_i](-1)$$\n",
    "\n",
    "$$g'(a) = -2 [\\sum_{i = 1}^n y_i - a - b\\sum_{i=1}^n x_i]$$\n",
    "\n",
    "Setting this equal to zero and solving for $a$ we get\n",
    "\n",
    "$$a = \\frac{1}{n} \\sum_{i=1}^n y_i - b\\frac{1}{n} \\sum_{i=1}^n x_i$$\n",
    "\n",
    "The terms should be familiar as averages, and we can rewrite our equation as\n",
    "\n",
    "$$a = \\bar{y} - b \\bar{x}$$\n",
    "\n",
    "We now use this to investigate a similar function in terms of $b$ to complete our solution.\n",
    "\n",
    "$$f(b) = \\sum_{i=1}^n[y_i - (\\bar{y} + b(x_i - \\bar{x}))]^2$$"
   ]
  },
  {
   "cell_type": "markdown",
   "metadata": {},
   "source": [
    "We end up with \n",
    "\n",
    "$$b = \\sum_{i = 1}^n \\frac{(x_i - \\bar{x})(y_i - \\bar{y})}{(\\bar{x} - x_i)^2}$$\n",
    "\n",
    "Let's return to the problem of cigarette consumption and test our work out by manually computing $a$ and $b$."
   ]
  },
  {
   "cell_type": "markdown",
   "metadata": {},
   "source": [
    "## Other Situations\n",
    "\n",
    "Our goal with regression is to identify situations where regression makes sense, fit models and discuss the reasonableness of the model for describing the data.  Data does not always come in linear forms however.  \n",
    "\n",
    "We can easily generate sample data for familiar curves.  First, we can make some lists of polynomial form, then we will add some noise to these, fit models with `np.polyfit()`, and plot the results.  \n",
    "\n",
    "\n"
   ]
  },
  {
   "cell_type": "markdown",
   "metadata": {},
   "source": [
    "### Non-Linear Functions\n",
    "\n",
    "Plotting and fitting non-linear functions follows a similar pattern, however we need to take into consideration the nature of the function.  First, if we see something following a polynomial pattern, we can just use whatever degree polynomial fit we believe is relevant.  The derivation of these formulas follows the same structure as the linear case, except you are replacing the line $a - bx_i$ with a polynomial $a + bx_i + cx_i^2...$.\n",
    "\n",
    "If we believe there to be an exponential fit, we can transform this into a linear situation using the logarithm.  For example, suppose we have the following population data.\n",
    "\n",
    "| Decade $t$ | Year | Population |\n",
    "| ----- | ------ | ----- |\n",
    "| 0 | 1780 | 2.8 | \n",
    "| 1 | 1790 | 3.9 | \n",
    "| 2 | 1800 | 5.3 | \n",
    "| 3 | 1810 | 7.2 |\n",
    "\n",
    "If we examine the data, we see an exponential like trend.  If we use NumPy to find the logarithm of the population values and plot the result, we note the transformed datas similarity to a linear function."
   ]
  },
  {
   "cell_type": "code",
   "execution_count": null,
   "metadata": {},
   "outputs": [],
   "source": [
    "t = np.arange(0,13)\n",
    "year = np.arange(1780,1910,10)\n",
    "P = [2.8, 3.9, 5.3, 7.2, 9.6, 12.9, 17.1, 23.2, 31.4, 39.8, 50.2, 62.9, 76.0]"
   ]
  },
  {
   "cell_type": "code",
   "execution_count": null,
   "metadata": {},
   "outputs": [],
   "source": [
    "plt.figure(figsize = (7,5))\n",
    "plt.subplot(1, 2, 1)\n",
    "plt.scatter(year, P,color = 'red', alpha = 0.7)\n",
    "plt.xlabel('Year')\n",
    "plt.ylabel('Population')\n",
    "plt.title(\"Original Data\")\n",
    "\n",
    "plt.subplot(1, 2, 2)\n",
    "lnP = np.log(P)\n",
    "plt.scatter(year, lnP, color = 'green', alpha = 0.4)\n",
    "plt.xlabel('Year')\n",
    "plt.ylabel('Logarithm of Population')\n",
    "plt.title(\"Transformed Data\")"
   ]
  },
  {
   "cell_type": "markdown",
   "metadata": {},
   "source": [
    "Symbolically, we would imagine the original function as an exponential of the form\n",
    "\n",
    "$$y = ae^{bx}$$\n",
    "\n",
    "The expression can be explored in a similar manner, where we use Sympy to find the effect of the logarithm."
   ]
  },
  {
   "cell_type": "code",
   "execution_count": null,
   "metadata": {},
   "outputs": [],
   "source": [
    "y, a, b, x = sy.symbols('y a b x')"
   ]
  },
  {
   "cell_type": "code",
   "execution_count": null,
   "metadata": {},
   "outputs": [],
   "source": [
    "eq = sy.Eq(y, a*sy.exp(b*x))"
   ]
  },
  {
   "cell_type": "code",
   "execution_count": null,
   "metadata": {},
   "outputs": [],
   "source": [
    "sy.expand_log(sy.log(b**x))"
   ]
  },
  {
   "cell_type": "code",
   "execution_count": null,
   "metadata": {},
   "outputs": [],
   "source": [
    "sy.expand_log(sy.log(a*sy.exp(b*x)), force = True)"
   ]
  },
  {
   "cell_type": "markdown",
   "metadata": {},
   "source": [
    "Hence, we have that\n",
    "\n",
    "$$\\log(y) = bx + \\log(a)$$\n",
    "\n",
    "which should look like our familiar linear equations.  Here, we can find $a$ and $b$, then convert the equation back to its original form by undoing the logarithm with the exponential."
   ]
  },
  {
   "cell_type": "markdown",
   "metadata": {},
   "source": [
    "For kicks, we introduce the SciPy `linregress` function.  Feel free to examine the help documentation for the function.  This gives a little more information about the model than the `polyfit` function.  Further, we add text to the plot to display information about the model."
   ]
  },
  {
   "cell_type": "code",
   "execution_count": null,
   "metadata": {},
   "outputs": [],
   "source": [
    "line = np.polyfit(year, lnP, 1)\n",
    "fit = np.polyval(line, year)\n",
    "alpha, beta, r_value, p_value, std_err = stats.linregress(year, lnP) #\n",
    "alpha, beta, r_value"
   ]
  },
  {
   "cell_type": "code",
   "execution_count": null,
   "metadata": {},
   "outputs": [],
   "source": [
    "fig = plt.figure(figsize = (10,5))\n",
    "\n",
    "fig.add_subplot(121)\n",
    "plt.plot(year, np.exp(fit))\n",
    "plt.plot(year, P, 'o', markersize = 7, alpha = 0.8)\n",
    "\n",
    "fig.add_subplot(122)\n",
    "plt.plot(year, fit)\n",
    "plt.plot(year, lnP, 'o', markersize = 7, alpha = 0.8)"
   ]
  },
  {
   "cell_type": "markdown",
   "metadata": {},
   "source": [
    "## Logistic Example\n",
    "\n",
    "As you see above, towards the end of our model the actual and predicted values seem to diverge.  Considering the context, this makes sense.  A population should reach some maximum levels due to physical resources.  A more S shaped curve is the logistic function which is given by \n",
    "\n",
    "$$y = \\frac{L}{1 + e^{a+bx}}$$\n",
    "\n",
    "As an example, consider the Inter Continental Ballistic Missle Data for 1960 - 1969.\n",
    "\n",
    "| Year | Number of ICBM's |\n",
    "| --- | --- |\n",
    "| 1960 | 18 |\n",
    "| 1961 | 63 |\n",
    "| 1962 | 294 |\n",
    "| 1963 | 424 |\n",
    "| 1964 | 834 |\n",
    "| 1965 | 854 |\n",
    "| 1966 | 904 |\n",
    "| 1967 | 1054 |\n",
    "| 1968 | 1054 |\n",
    "| 1969 | 1054 |"
   ]
  },
  {
   "cell_type": "code",
   "execution_count": null,
   "metadata": {},
   "outputs": [],
   "source": [
    "year = [i for i in np.arange(1960, 1970, 1)]\n",
    "icbm = [18, 63, 294, 424, 834, 854, 904, 1054, 1054, 1054]"
   ]
  },
  {
   "cell_type": "code",
   "execution_count": null,
   "metadata": {},
   "outputs": [],
   "source": [
    "plt.scatter(year, icbm)"
   ]
  },
  {
   "cell_type": "code",
   "execution_count": null,
   "metadata": {},
   "outputs": [],
   "source": [
    "L, y, a, b, x = sy.symbols('L y a b x')"
   ]
  },
  {
   "cell_type": "code",
   "execution_count": null,
   "metadata": {},
   "outputs": [],
   "source": [
    "exp = sy.Eq(y, L/(1 + sy.exp(a + b*x)))"
   ]
  },
  {
   "cell_type": "code",
   "execution_count": null,
   "metadata": {},
   "outputs": [],
   "source": [
    "sy.solve(exp, (a + b*x),  force = True)"
   ]
  },
  {
   "cell_type": "markdown",
   "metadata": {},
   "source": [
    "This means that the tranformation that linearizes our data is \n",
    "\n",
    "$$\\log(\\frac{L - y}{y})$$\n",
    "\n",
    "The value $L$ is defined as the *carrying capacity* of the model.  Here, it seems something like $L = 1060$ would be a reasonable value to try.  "
   ]
  },
  {
   "cell_type": "code",
   "execution_count": null,
   "metadata": {},
   "outputs": [],
   "source": [
    "t_icbm = [np.log((1060 - i)/i) for i in icbm]"
   ]
  },
  {
   "cell_type": "code",
   "execution_count": null,
   "metadata": {},
   "outputs": [],
   "source": [
    "plt.scatter(year, t_icbm)"
   ]
  },
  {
   "cell_type": "code",
   "execution_count": null,
   "metadata": {},
   "outputs": [],
   "source": [
    "b, a = np.polyfit(year, t_icbm, 1)"
   ]
  },
  {
   "cell_type": "code",
   "execution_count": null,
   "metadata": {},
   "outputs": [],
   "source": [
    "a, b"
   ]
  },
  {
   "cell_type": "code",
   "execution_count": null,
   "metadata": {},
   "outputs": [],
   "source": [
    "def l(x):\n",
    "    return b*x + a\n",
    "\n",
    "l(1960), l(1969)"
   ]
  },
  {
   "cell_type": "code",
   "execution_count": null,
   "metadata": {},
   "outputs": [],
   "source": [
    "fit = [l(i) for i in year]"
   ]
  },
  {
   "cell_type": "code",
   "execution_count": null,
   "metadata": {},
   "outputs": [],
   "source": [
    "plt.scatter(year, t_icbm)\n",
    "plt.plot(year, fit)\n",
    "plt.title(\"Fitting ICBM Data\")\n",
    "plt.xlabel(\"Year\")\n",
    "plt.ylabel(\"Transformed ICMB Data\")"
   ]
  },
  {
   "cell_type": "markdown",
   "metadata": {},
   "source": [
    "Much like the last example, we can return everything to its original form with the exponential.  We arrive at the equation\n",
    "\n",
    "$$y = \\frac{1060}{1 + e^{2092 - 1.0654x}}$$"
   ]
  },
  {
   "cell_type": "code",
   "execution_count": null,
   "metadata": {},
   "outputs": [],
   "source": [
    "def y(x):\n",
    "    return 1060/(1 + np.exp(2092 - 1.0654*x))\n",
    "\n",
    "o_fit = [y(i) for i in year]"
   ]
  },
  {
   "cell_type": "code",
   "execution_count": null,
   "metadata": {},
   "outputs": [],
   "source": [
    "plt.scatter(year, icbm)\n",
    "plt.plot(year, o_fit, '--k')\n",
    "plt.title(\"ICBM Data and Logistic Fit\")\n",
    "plt.xlabel(\"Year\")\n",
    "plt.ylabel(\"ICMB's\")"
   ]
  },
  {
   "cell_type": "markdown",
   "metadata": {},
   "source": [
    "### Example\n",
    "\n",
    "The dataset below contains historical data dealing with some basic human development indicies.  Your goal is to explore the relationship between life expectancy and GDP.  Examine a linear regression model that you build on the most recent data comparing GDP per capita and life expectancy."
   ]
  },
  {
   "cell_type": "code",
   "execution_count": null,
   "metadata": {},
   "outputs": [],
   "source": [
    "gap = pd.read_csv('data/gapminder_all.csv')"
   ]
  },
  {
   "cell_type": "code",
   "execution_count": null,
   "metadata": {},
   "outputs": [],
   "source": [
    "gap.head()"
   ]
  },
  {
   "cell_type": "code",
   "execution_count": null,
   "metadata": {},
   "outputs": [],
   "source": []
  },
  {
   "cell_type": "code",
   "execution_count": null,
   "metadata": {},
   "outputs": [],
   "source": []
  },
  {
   "cell_type": "code",
   "execution_count": null,
   "metadata": {},
   "outputs": [],
   "source": []
  },
  {
   "cell_type": "code",
   "execution_count": null,
   "metadata": {},
   "outputs": [],
   "source": []
  },
  {
   "cell_type": "code",
   "execution_count": null,
   "metadata": {},
   "outputs": [],
   "source": []
  },
  {
   "cell_type": "code",
   "execution_count": null,
   "metadata": {},
   "outputs": [],
   "source": []
  },
  {
   "cell_type": "code",
   "execution_count": null,
   "metadata": {},
   "outputs": [],
   "source": []
  },
  {
   "cell_type": "code",
   "execution_count": null,
   "metadata": {},
   "outputs": [],
   "source": []
  },
  {
   "cell_type": "code",
   "execution_count": null,
   "metadata": {},
   "outputs": [],
   "source": []
  },
  {
   "cell_type": "code",
   "execution_count": null,
   "metadata": {},
   "outputs": [],
   "source": []
  },
  {
   "cell_type": "code",
   "execution_count": null,
   "metadata": {},
   "outputs": [],
   "source": []
  },
  {
   "cell_type": "code",
   "execution_count": null,
   "metadata": {},
   "outputs": [],
   "source": []
  }
 ],
 "metadata": {
  "kernelspec": {
   "display_name": "Python 3",
   "language": "python",
   "name": "python3"
  },
  "language_info": {
   "codemirror_mode": {
    "name": "ipython",
    "version": 3
   },
   "file_extension": ".py",
   "mimetype": "text/x-python",
   "name": "python",
   "nbconvert_exporter": "python",
   "pygments_lexer": "ipython3",
   "version": "3.6.4"
  }
 },
 "nbformat": 4,
 "nbformat_minor": 2
}
