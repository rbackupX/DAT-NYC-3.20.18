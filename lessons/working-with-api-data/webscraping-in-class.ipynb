{
 "cells": [
  {
   "cell_type": "markdown",
   "metadata": {
    "collapsed": true
   },
   "source": [
    "<img src=\"http://imgur.com/1ZcRyrc.png\" style=\"float: left; margin: 20px; height: 55px\">\n",
    "\n",
    "# Web Scraping\n",
    "\n",
    "_Author: Dave Yerrington (SF)_\n",
    "\n",
    "---"
   ]
  },
  {
   "cell_type": "markdown",
   "metadata": {},
   "source": [
    "## Before Class\n",
    "\n",
    "#### Install Selenium\n",
    "\n",
    "Selenium is a headless browser. It allows us to render JavaScript just as a human-navigated browser would.\n",
    "\n",
    "To install Selenium, use one of the following:\n",
    "- **Anaconda:** `conda install -c conda-forge selenium`\n",
    "- **pip:** `pip install selenium`\n",
    "\n",
    "\n",
    "#### Install GeckoDriver\n",
    "\n",
    "You will also need GeckoDriver (this assumes you are using Homebrew for Mac): \n",
    "\n",
    "- ```brew install geckodriver```\n",
    "\n",
    "#### Install Firefox\n",
    "\n",
    "Additionally, you will need to have downloaded the [Firefox browser](https://www.mozilla.org/en-US/firefox/new/?utm_source=google&utm_medium=cpc&utm_campaign=Firefox-Brand-US-GGL-Exact&utm_term=firefox&utm_content=A144_A203_A006336&gclid=Cj0KEQjwnPLKBRC-j7nt1b7OlZwBEiQAv8lMLJUyReT6cPzSYdmEA6uD3YDoieuuuusddgAU7XH6smEaAoje8P8HAQ&gclsrc=aw.ds) for the application in this lesson."
   ]
  },
  {
   "cell_type": "markdown",
   "metadata": {},
   "source": [
    "## Learning Objectives\n",
    "- Revisit how to locate elements on a webpage\n",
    "- Aquire unstructure data from the internet using Beautiful soup.\n",
    "- Discuss limitations associated with simple requests and urllib libraries\n",
    "- Introduce Selenium as a solution, and implement a scraper using selenium"
   ]
  },
  {
   "cell_type": "markdown",
   "metadata": {},
   "source": [
    "## Lesson Guide\n",
    "\n",
    "- [Introduction](#intro)\n",
    "- [Building a web scraper](#building-scraper)\n",
    "- [Retrieving data from the HTML page](#retrieving-data)\n",
    "    - [Retrieving the restaurant names](#retrieving-names)\n",
    "    - [Challenge: Retrieving the restaurant locations](#retrieving-locations)\n",
    "    - [Retrieving the restaurant prices](#retrieving-prices)\n",
    "    - [Retrieving the restaurant number of bookings](#retrieving-bookings)\n",
    "\n",
    "\n",
    "- [Introducting Selenium](#selenium)\n",
    "    - [Running JavaScript before scraping](#selenium-js)\n",
    "    - [Using regex to only get digits](#selenium-regex)\n",
    "    - [Challenge: Use Pandas to create a DataFrame of bookings](#challenge-pandas)\n",
    "    - [Auto-typing using Selenium](#selenium-typing)\n",
    "\n",
    "\n",
    "- [Summary](#summary)"
   ]
  },
  {
   "cell_type": "markdown",
   "metadata": {},
   "source": [
    "<a id=\"intro\"></a>\n",
    "## Introduction\n",
    "\n",
    "In this codealong lesson, we'll build a web scraper using requests and BeautifulSoup. We will also explore how to use a headless browser called Selenium.\n",
    "\n",
    "We'll begin by scraping OpenTable's DC listings. We're interested in knowing the restaurant's **name, location, price, and how many people booked it today.**\n",
    "\n",
    "OpenTable provides all of this information on this given page: http://www.opentable.com/washington-dc-restaurant-listings\n",
    "\n",
    "Let's inspect the elements of this page to assure we can find each of the bits of information in which we're interested.\n",
    "\n",
    "---"
   ]
  },
  {
   "cell_type": "markdown",
   "metadata": {},
   "source": [
    "<a id=\"building-scraper\"></a>\n",
    "## Building a web scraper\n",
    "\n",
    "Now, let's build a web scraper for OpenTable using urllib and Beautiful Soup:"
   ]
  },
  {
   "cell_type": "code",
   "execution_count": 20,
   "metadata": {
    "scrolled": false
   },
   "outputs": [],
   "source": [
    "# import our necessary first packages\n",
    "from bs4 import BeautifulSoup\n",
    "import requests"
   ]
  },
  {
   "cell_type": "code",
   "execution_count": 21,
   "metadata": {},
   "outputs": [],
   "source": [
    "# set the url we want to visit\n",
    "url = \"http://www.opentable.com/washington-dc-restaurant-listings\"\n",
    "\n",
    "# visit that url, and grab the html of said page\n",
    "html = requests.get(url)"
   ]
  },
  {
   "cell_type": "markdown",
   "metadata": {},
   "source": [
    "At this point, what is in html?"
   ]
  },
  {
   "cell_type": "code",
   "execution_count": 22,
   "metadata": {},
   "outputs": [
    {
     "data": {
      "text/plain": [
       "'           <!DOCTYPE html><html lang=\"en\"><head><meta charset=\"utf-8\"/><meta http-equiv=\"X-UA-Compatible\" content=\"IE=9; IE=8; IE=7; IE=EDGE\"/> <title>Restaurant Reservation Availability</title>    <meta  name=\"robots\" content=\"noindex\" > </meta>      <link rel=\"shortcut icon\" href=\"//components.otstatic.com/components/favicon/1.0.4/favicon/favicon.ico\" type=\"image/x-icon\"/><link rel=\"icon\" href=\"//components.otstatic.com/components/favicon/1.0.4/favicon/favicon-16.png\" sizes=\"16x16\"/><link rel='"
      ]
     },
     "execution_count": 22,
     "metadata": {},
     "output_type": "execute_result"
    }
   ],
   "source": [
    "# .text returns the request content in Unicode\n",
    "html.text[:500]"
   ]
  },
  {
   "cell_type": "markdown",
   "metadata": {},
   "source": [
    "We will need to convert this html objct into a soup object so we can parse it using python and BS4"
   ]
  },
  {
   "cell_type": "code",
   "execution_count": 23,
   "metadata": {},
   "outputs": [],
   "source": [
    "# convert this into a soup object\n",
    "soup = BeautifulSoup(html.text, 'html.parser')"
   ]
  },
  {
   "cell_type": "markdown",
   "metadata": {},
   "source": [
    "<a id=\"retrieving-data\"></a>\n",
    "### Retrieving data from the HTML page"
   ]
  },
  {
   "cell_type": "markdown",
   "metadata": {},
   "source": [
    "Let's first find each restaurant name listed on the page we've loaded. How do we find the page location of the restaurant? (Hint: We need to know where in the **HTML** the restaurant element is housed.) In order to find the HTML that renders the restaurant location, we can use Google Chrome's Inspect tool:\n",
    "\n",
    "> http://www.opentable.com/washington-dc-restaurant-listings\n",
    "\n",
    "> 1. Visit the URL above. \n",
    "\n",
    "> 2. Right-click on an element you are interested in, then choose Inspect (in Chrome). \n",
    "\n",
    "> 3. This will open the Developer Tools and show the HTML used to render the selected page element. \n",
    "\n",
    "> Throughout this lesson, we will use this method to find tags associated with elements of the page we want to scrape.\n",
    "\n",
    "See if you can find the restaurant name on the page. Keep in mind there are many restaurants loaded on the page."
   ]
  },
  {
   "cell_type": "code",
   "execution_count": 24,
   "metadata": {
    "scrolled": true
   },
   "outputs": [
    {
     "data": {
      "text/plain": [
       "[<span class=\"rest-row-name-text\">Howell</span>,\n",
       " <span class=\"rest-row-name-text\">Square</span>,\n",
       " <span class=\"rest-row-name-text\">Mountains</span>,\n",
       " <span class=\"rest-row-name-text\">1334 Larson</span>,\n",
       " <span class=\"rest-row-name-text\">943 Strosin</span>,\n",
       " <span class=\"rest-row-name-text\">Lauries</span>,\n",
       " <span class=\"rest-row-name-text\">Kunde</span>,\n",
       " <span class=\"rest-row-name-text\">Esse Koch</span>,\n",
       " <span class=\"rest-row-name-text\">Luciuss</span>,\n",
       " <span class=\"rest-row-name-text\">Consequuntur Unions</span>,\n",
       " <span class=\"rest-row-name-text\">Chaunceys</span>,\n",
       " <span class=\"rest-row-name-text\">Omnis Baumbach</span>,\n",
       " <span class=\"rest-row-name-text\">Rashads</span>,\n",
       " <span class=\"rest-row-name-text\">Kerluke Ridges</span>,\n",
       " <span class=\"rest-row-name-text\">Wyman</span>,\n",
       " <span class=\"rest-row-name-text\">1094 Pollich</span>,\n",
       " <span class=\"rest-row-name-text\">Adelle Sporer</span>,\n",
       " <span class=\"rest-row-name-text\">Maceys</span>,\n",
       " <span class=\"rest-row-name-text\">Alvah Green</span>,\n",
       " <span class=\"rest-row-name-text\">732 Yundt</span>,\n",
       " <span class=\"rest-row-name-text\">Ebert</span>,\n",
       " <span class=\"rest-row-name-text\">Gerhard Wilkinson</span>,\n",
       " <span class=\"rest-row-name-text\">Davion Casper</span>,\n",
       " <span class=\"rest-row-name-text\">Regan Circles</span>,\n",
       " <span class=\"rest-row-name-text\">Dam</span>,\n",
       " <span class=\"rest-row-name-text\">Gibson</span>,\n",
       " <span class=\"rest-row-name-text\">Omnis</span>,\n",
       " <span class=\"rest-row-name-text\">839 Tremblay</span>,\n",
       " <span class=\"rest-row-name-text\">Johns</span>,\n",
       " <span class=\"rest-row-name-text\">Ea</span>,\n",
       " <span class=\"rest-row-name-text\">Justyn Boyer</span>,\n",
       " <span class=\"rest-row-name-text\">Wunsch</span>,\n",
       " <span class=\"rest-row-name-text\">Reilly Walk</span>,\n",
       " <span class=\"rest-row-name-text\">Gardens</span>,\n",
       " <span class=\"rest-row-name-text\">640 Krajcik</span>,\n",
       " <span class=\"rest-row-name-text\">Point</span>,\n",
       " <span class=\"rest-row-name-text\">Ut Junctions</span>,\n",
       " <span class=\"rest-row-name-text\">Cynthia O'Connell</span>,\n",
       " <span class=\"rest-row-name-text\">Expedita Overpass</span>,\n",
       " <span class=\"rest-row-name-text\">Cordie Klein</span>,\n",
       " <span class=\"rest-row-name-text\">Quia Trail</span>,\n",
       " <span class=\"rest-row-name-text\">Enim Ford</span>,\n",
       " <span class=\"rest-row-name-text\">Earls</span>,\n",
       " <span class=\"rest-row-name-text\">Klocko</span>,\n",
       " <span class=\"rest-row-name-text\">Inlet</span>,\n",
       " <span class=\"rest-row-name-text\">Run</span>,\n",
       " <span class=\"rest-row-name-text\">Quia Stroman</span>,\n",
       " <span class=\"rest-row-name-text\">Saepe Senger</span>,\n",
       " <span class=\"rest-row-name-text\">Street</span>,\n",
       " <span class=\"rest-row-name-text\">Ipsum</span>,\n",
       " <span class=\"rest-row-name-text\">Aurores</span>,\n",
       " <span class=\"rest-row-name-text\">Maddisons</span>,\n",
       " <span class=\"rest-row-name-text\">Hauck</span>,\n",
       " <span class=\"rest-row-name-text\">896 Kuvalis</span>,\n",
       " <span class=\"rest-row-name-text\">Gregg Jaskolski</span>,\n",
       " <span class=\"rest-row-name-text\">Est Leannon</span>,\n",
       " <span class=\"rest-row-name-text\">Kirk Kling</span>,\n",
       " <span class=\"rest-row-name-text\">Idas</span>,\n",
       " <span class=\"rest-row-name-text\">Passage</span>,\n",
       " <span class=\"rest-row-name-text\">Emard</span>,\n",
       " <span class=\"rest-row-name-text\">Facilis Tunnel</span>,\n",
       " <span class=\"rest-row-name-text\">Vandervort</span>,\n",
       " <span class=\"rest-row-name-text\">Incidunt Brook</span>,\n",
       " <span class=\"rest-row-name-text\">Agloe Bar &amp; Grill</span>,\n",
       " <span class=\"rest-row-name-text\">Dach</span>,\n",
       " <span class=\"rest-row-name-text\">Et</span>,\n",
       " <span class=\"rest-row-name-text\">Nobles</span>,\n",
       " <span class=\"rest-row-name-text\">775 Braun</span>,\n",
       " <span class=\"rest-row-name-text\">Enim Ryan</span>,\n",
       " <span class=\"rest-row-name-text\">Greenholt</span>,\n",
       " <span class=\"rest-row-name-text\">Quam</span>,\n",
       " <span class=\"rest-row-name-text\">Velvas</span>,\n",
       " <span class=\"rest-row-name-text\">622 Miller</span>,\n",
       " <span class=\"rest-row-name-text\">Kihn</span>,\n",
       " <span class=\"rest-row-name-text\">Schimmel</span>,\n",
       " <span class=\"rest-row-name-text\">744 Harber</span>,\n",
       " <span class=\"rest-row-name-text\">Ea</span>,\n",
       " <span class=\"rest-row-name-text\">Armanis</span>,\n",
       " <span class=\"rest-row-name-text\">Rapid</span>,\n",
       " <span class=\"rest-row-name-text\">Aut</span>,\n",
       " <span class=\"rest-row-name-text\">Legros Summit</span>,\n",
       " <span class=\"rest-row-name-text\">Skiles Divide</span>,\n",
       " <span class=\"rest-row-name-text\">402 Stamm</span>,\n",
       " <span class=\"rest-row-name-text\">788 Keeling</span>,\n",
       " <span class=\"rest-row-name-text\">Nienow Grove</span>,\n",
       " <span class=\"rest-row-name-text\">Provident Rolfson</span>,\n",
       " <span class=\"rest-row-name-text\">Heidenreich</span>,\n",
       " <span class=\"rest-row-name-text\">427 Daniel</span>,\n",
       " <span class=\"rest-row-name-text\">Eldoras</span>,\n",
       " <span class=\"rest-row-name-text\">Ab Fords</span>,\n",
       " <span class=\"rest-row-name-text\">Dahlias</span>,\n",
       " <span class=\"rest-row-name-text\">Circle</span>,\n",
       " <span class=\"rest-row-name-text\">934 Torp</span>,\n",
       " <span class=\"rest-row-name-text\">Quos Parks</span>,\n",
       " <span class=\"rest-row-name-text\">Ashas</span>,\n",
       " <span class=\"rest-row-name-text\">Meaghan Camp</span>,\n",
       " <span class=\"rest-row-name-text\">Tamias</span>,\n",
       " <span class=\"rest-row-name-text\">Adrains</span>,\n",
       " <span class=\"rest-row-name-text\">Daniel Ville</span>,\n",
       " <span class=\"rest-row-name-text\">Sint Bogan</span>]"
      ]
     },
     "execution_count": 24,
     "metadata": {},
     "output_type": "execute_result"
    }
   ],
   "source": [
    "# print the restaurant names\n",
    "soup.find_all(name='span', attrs={'class':'rest-row-name-text'})"
   ]
  },
  {
   "cell_type": "markdown",
   "metadata": {},
   "source": [
    "It is important to always keep in mind the data types that were returned. Note this is a `list`, and we know that immediately by observing the outer square brackets and commas separating each tag.\n",
    "\n",
    "Next, note the elements of the list are `Tag` objects, not strings. (If they were strings, they would be surrounded by quotes.) The Beautiful Soup authors chose to display a `Tag` object visually as a text representation of the tag and its contents. However, being an object, it has many methods that we can call on it. For example, next we will use the `encode_contents()` method to return the tag's contents encoded as a Python string.\n",
    "\n",
    "<a id=\"retrieving-names\"></a>\n",
    "#### Retrieving the restaurant names\n",
    "\n",
    "Now that we found a list of tags containing the restaurant names, let's think how we can loop through them all one-by-one. In the following cell, we'll print out the name (and **only** the clean name, not the rest of the html) of each restaurant."
   ]
  },
  {
   "cell_type": "code",
   "execution_count": 25,
   "metadata": {
    "scrolled": true
   },
   "outputs": [
    {
     "name": "stdout",
     "output_type": "stream",
     "text": [
      "Howell\n",
      "Square\n",
      "Mountains\n",
      "1334 Larson\n",
      "943 Strosin\n",
      "Lauries\n",
      "Kunde\n",
      "Esse Koch\n",
      "Luciuss\n",
      "Consequuntur Unions\n",
      "Chaunceys\n",
      "Omnis Baumbach\n",
      "Rashads\n",
      "Kerluke Ridges\n",
      "Wyman\n",
      "1094 Pollich\n",
      "Adelle Sporer\n",
      "Maceys\n",
      "Alvah Green\n",
      "732 Yundt\n",
      "Ebert\n",
      "Gerhard Wilkinson\n",
      "Davion Casper\n",
      "Regan Circles\n",
      "Dam\n",
      "Gibson\n",
      "Omnis\n",
      "839 Tremblay\n",
      "Johns\n",
      "Ea\n",
      "Justyn Boyer\n",
      "Wunsch\n",
      "Reilly Walk\n",
      "Gardens\n",
      "640 Krajcik\n",
      "Point\n",
      "Ut Junctions\n",
      "Cynthia O'Connell\n",
      "Expedita Overpass\n",
      "Cordie Klein\n",
      "Quia Trail\n",
      "Enim Ford\n",
      "Earls\n",
      "Klocko\n",
      "Inlet\n",
      "Run\n",
      "Quia Stroman\n",
      "Saepe Senger\n",
      "Street\n",
      "Ipsum\n",
      "Aurores\n",
      "Maddisons\n",
      "Hauck\n",
      "896 Kuvalis\n",
      "Gregg Jaskolski\n",
      "Est Leannon\n",
      "Kirk Kling\n",
      "Idas\n",
      "Passage\n",
      "Emard\n",
      "Facilis Tunnel\n",
      "Vandervort\n",
      "Incidunt Brook\n",
      "Agloe Bar & Grill\n",
      "Dach\n",
      "Et\n",
      "Nobles\n",
      "775 Braun\n",
      "Enim Ryan\n",
      "Greenholt\n",
      "Quam\n",
      "Velvas\n",
      "622 Miller\n",
      "Kihn\n",
      "Schimmel\n",
      "744 Harber\n",
      "Ea\n",
      "Armanis\n",
      "Rapid\n",
      "Aut\n",
      "Legros Summit\n",
      "Skiles Divide\n",
      "402 Stamm\n",
      "788 Keeling\n",
      "Nienow Grove\n",
      "Provident Rolfson\n",
      "Heidenreich\n",
      "427 Daniel\n",
      "Eldoras\n",
      "Ab Fords\n",
      "Dahlias\n",
      "Circle\n",
      "934 Torp\n",
      "Quos Parks\n",
      "Ashas\n",
      "Meaghan Camp\n",
      "Tamias\n",
      "Adrains\n",
      "Daniel Ville\n",
      "Sint Bogan\n"
     ]
    }
   ],
   "source": [
    "# for each element you find, print out the restaurant name\n",
    "for entry in soup.find_all(name='span', attrs={'class':'rest-row-name-text'}):\n",
    "    print(entry.text)"
   ]
  },
  {
   "cell_type": "markdown",
   "metadata": {},
   "source": [
    "Great!\n",
    "\n",
    "<a id=\"retrieving-locations\"></a>\n",
    "#### Challenge: Retrieving the restaurant locations\n",
    "\n",
    "Can you repeat that process for finding the location? For example, barmini by Jose Andres is in the location listed as \"Penn Quarter\" in our search results."
   ]
  },
  {
   "cell_type": "code",
   "execution_count": 26,
   "metadata": {},
   "outputs": [],
   "source": [
    "# first, see if you can identify the location for all elements -- print it out"
   ]
  },
  {
   "cell_type": "code",
   "execution_count": 27,
   "metadata": {},
   "outputs": [],
   "source": [
    "# now print out EACH location for the restaurants"
   ]
  },
  {
   "cell_type": "markdown",
   "metadata": {},
   "source": [
    "<a id=\"retrieving-prices\"></a>\n",
    "#### Retrieving the restaurant prices"
   ]
  },
  {
   "cell_type": "markdown",
   "metadata": {},
   "source": [
    "Ok, we've figured out the restaurant name and location. Now we need to grab the price (number of dollar signs on a scale of one to four) for each restaurant. We'll follow the same process."
   ]
  },
  {
   "cell_type": "code",
   "execution_count": 28,
   "metadata": {
    "scrolled": true
   },
   "outputs": [
    {
     "data": {
      "text/plain": [
       "[<div class=\"rest-row-pricing\"> <i>  $    $    $    $  </i> </div>,\n",
       " <div class=\"rest-row-pricing\"> <i>  $    $    $    $  </i> </div>,\n",
       " <div class=\"rest-row-pricing\"> <i>  $    $      </i>   $    $      </div>,\n",
       " <div class=\"rest-row-pricing\"> <i>  $    $      </i>   $    $      </div>,\n",
       " <div class=\"rest-row-pricing\"> <i>  $    $    $    $  </i> </div>,\n",
       " <div class=\"rest-row-pricing\"> <i>  $    $      </i>   $    $      </div>,\n",
       " <div class=\"rest-row-pricing\"> <i>  $    $    $    $  </i> </div>,\n",
       " <div class=\"rest-row-pricing\"> <i>  $    $    $    $  </i> </div>,\n",
       " <div class=\"rest-row-pricing\"> <i>  $    $      </i>   $    $      </div>,\n",
       " <div class=\"rest-row-pricing\"> <i>  $    $    $    </i>   $        </div>,\n",
       " <div class=\"rest-row-pricing\"> <i>  $    $    $    </i>   $        </div>,\n",
       " <div class=\"rest-row-pricing\"> <i>  $    $    $    $  </i> </div>,\n",
       " <div class=\"rest-row-pricing\"> <i>  $    $      </i>   $    $      </div>,\n",
       " <div class=\"rest-row-pricing\"> <i>  $    $    $    </i>   $        </div>,\n",
       " <div class=\"rest-row-pricing\"> <i>  $    $    $    </i>   $        </div>,\n",
       " <div class=\"rest-row-pricing\"> <i>  $    $      </i>   $    $      </div>,\n",
       " <div class=\"rest-row-pricing\"> <i>  $    $    $    $  </i> </div>,\n",
       " <div class=\"rest-row-pricing\"> <i>  $    $    $    $  </i> </div>,\n",
       " <div class=\"rest-row-pricing\"> <i>  $    $    $    $  </i> </div>,\n",
       " <div class=\"rest-row-pricing\"> <i>  $    $    $    </i>   $        </div>,\n",
       " <div class=\"rest-row-pricing\"> <i>  $    $    $    $  </i> </div>,\n",
       " <div class=\"rest-row-pricing\"> <i>  $    $    $    $  </i> </div>,\n",
       " <div class=\"rest-row-pricing\"> <i>  $    $      </i>   $    $      </div>,\n",
       " <div class=\"rest-row-pricing\"> <i>  $    $    $    </i>   $        </div>,\n",
       " <div class=\"rest-row-pricing\"> <i>  $    $      </i>   $    $      </div>,\n",
       " <div class=\"rest-row-pricing\"> <i>  $    $    $    $  </i> </div>,\n",
       " <div class=\"rest-row-pricing\"> <i>  $    $      </i>   $    $      </div>,\n",
       " <div class=\"rest-row-pricing\"> <i>  $    $      </i>   $    $      </div>,\n",
       " <div class=\"rest-row-pricing\"> <i>  $    $    $    </i>   $        </div>,\n",
       " <div class=\"rest-row-pricing\"> <i>  $    $    $    $  </i> </div>,\n",
       " <div class=\"rest-row-pricing\"> <i>  $    $    $    $  </i> </div>,\n",
       " <div class=\"rest-row-pricing\"> <i>  $    $    $    $  </i> </div>,\n",
       " <div class=\"rest-row-pricing\"> <i>  $    $    $    </i>   $        </div>,\n",
       " <div class=\"rest-row-pricing\"> <i>  $    $    $    </i>   $        </div>,\n",
       " <div class=\"rest-row-pricing\"> <i>  $    $      </i>   $    $      </div>,\n",
       " <div class=\"rest-row-pricing\"> <i>  $    $    $    $  </i> </div>,\n",
       " <div class=\"rest-row-pricing\"> <i>  $    $    $    $  </i> </div>,\n",
       " <div class=\"rest-row-pricing\"> <i>  $    $    $    </i>   $        </div>,\n",
       " <div class=\"rest-row-pricing\"> <i>  $    $    $    $  </i> </div>,\n",
       " <div class=\"rest-row-pricing\"> <i>  $    $    $    </i>   $        </div>,\n",
       " <div class=\"rest-row-pricing\"> <i>  $    $      </i>   $    $      </div>,\n",
       " <div class=\"rest-row-pricing\"> <i>  $    $      </i>   $    $      </div>,\n",
       " <div class=\"rest-row-pricing\"> <i>  $    $    $    $  </i> </div>,\n",
       " <div class=\"rest-row-pricing\"> <i>  $    $      </i>   $    $      </div>,\n",
       " <div class=\"rest-row-pricing\"> <i>  $    $      </i>   $    $      </div>,\n",
       " <div class=\"rest-row-pricing\"> <i>  $    $      </i>   $    $      </div>,\n",
       " <div class=\"rest-row-pricing\"> <i>  $    $    $    $  </i> </div>,\n",
       " <div class=\"rest-row-pricing\"> <i>  $    $    $    $  </i> </div>,\n",
       " <div class=\"rest-row-pricing\"> <i>  $    $      </i>   $    $      </div>,\n",
       " <div class=\"rest-row-pricing\"> <i>  $    $      </i>   $    $      </div>,\n",
       " <div class=\"rest-row-pricing\"> <i>  $    $      </i>   $    $      </div>,\n",
       " <div class=\"rest-row-pricing\"> <i>  $    $    $    </i>   $        </div>,\n",
       " <div class=\"rest-row-pricing\"> <i>  $    $    $    $  </i> </div>,\n",
       " <div class=\"rest-row-pricing\"> <i>  $    $    $    $  </i> </div>,\n",
       " <div class=\"rest-row-pricing\"> <i>  $    $    $    $  </i> </div>,\n",
       " <div class=\"rest-row-pricing\"> <i>  $    $      </i>   $    $      </div>,\n",
       " <div class=\"rest-row-pricing\"> <i>  $    $    $    </i>   $        </div>,\n",
       " <div class=\"rest-row-pricing\"> <i>  $    $    $    $  </i> </div>,\n",
       " <div class=\"rest-row-pricing\"> <i>  $    $      </i>   $    $      </div>,\n",
       " <div class=\"rest-row-pricing\"> <i>  $    $    $    $  </i> </div>,\n",
       " <div class=\"rest-row-pricing\"> <i>  $    $      </i>   $    $      </div>,\n",
       " <div class=\"rest-row-pricing\"> <i>  $    $    $    </i>   $        </div>,\n",
       " <div class=\"rest-row-pricing\"> <i>  $    $    $    </i>   $        </div>,\n",
       " <div class=\"rest-row-pricing\"> <i>  $    $    $    $  </i> </div>,\n",
       " <div class=\"rest-row-pricing\"> <i>  $    $      </i>   $    $      </div>,\n",
       " <div class=\"rest-row-pricing\"> <i>  $    $      </i>   $    $      </div>,\n",
       " <div class=\"rest-row-pricing\"> <i>  $    $      </i>   $    $      </div>,\n",
       " <div class=\"rest-row-pricing\"> <i>  $    $      </i>   $    $      </div>,\n",
       " <div class=\"rest-row-pricing\"> <i>  $    $    $    </i>   $        </div>,\n",
       " <div class=\"rest-row-pricing\"> <i>  $    $      </i>   $    $      </div>,\n",
       " <div class=\"rest-row-pricing\"> <i>  $    $      </i>   $    $      </div>,\n",
       " <div class=\"rest-row-pricing\"> <i>  $    $    $    </i>   $        </div>,\n",
       " <div class=\"rest-row-pricing\"> <i>  $    $      </i>   $    $      </div>,\n",
       " <div class=\"rest-row-pricing\"> <i>  $    $      </i>   $    $      </div>,\n",
       " <div class=\"rest-row-pricing\"> <i>  $    $      </i>   $    $      </div>,\n",
       " <div class=\"rest-row-pricing\"> <i>  $    $    $    </i>   $        </div>,\n",
       " <div class=\"rest-row-pricing\"> <i>  $    $    $    </i>   $        </div>,\n",
       " <div class=\"rest-row-pricing\"> <i>  $    $    $    $  </i> </div>,\n",
       " <div class=\"rest-row-pricing\"> <i>  $    $    $    $  </i> </div>,\n",
       " <div class=\"rest-row-pricing\"> <i>  $    $    $    $  </i> </div>,\n",
       " <div class=\"rest-row-pricing\"> <i>  $    $      </i>   $    $      </div>,\n",
       " <div class=\"rest-row-pricing\"> <i>  $    $    $    $  </i> </div>,\n",
       " <div class=\"rest-row-pricing\"> <i>  $    $    $    $  </i> </div>,\n",
       " <div class=\"rest-row-pricing\"> <i>  $    $      </i>   $    $      </div>,\n",
       " <div class=\"rest-row-pricing\"> <i>  $    $    $    $  </i> </div>,\n",
       " <div class=\"rest-row-pricing\"> <i>  $    $      </i>   $    $      </div>,\n",
       " <div class=\"rest-row-pricing\"> <i>  $    $    $    </i>   $        </div>,\n",
       " <div class=\"rest-row-pricing\"> <i>  $    $    $    $  </i> </div>,\n",
       " <div class=\"rest-row-pricing\"> <i>  $    $    $    </i>   $        </div>,\n",
       " <div class=\"rest-row-pricing\"> <i>  $    $      </i>   $    $      </div>,\n",
       " <div class=\"rest-row-pricing\"> <i>  $    $    $    </i>   $        </div>,\n",
       " <div class=\"rest-row-pricing\"> <i>  $    $    $    </i>   $        </div>,\n",
       " <div class=\"rest-row-pricing\"> <i>  $    $    $    $  </i> </div>,\n",
       " <div class=\"rest-row-pricing\"> <i>  $    $    $    $  </i> </div>,\n",
       " <div class=\"rest-row-pricing\"> <i>  $    $      </i>   $    $      </div>,\n",
       " <div class=\"rest-row-pricing\"> <i>  $    $    $    </i>   $        </div>,\n",
       " <div class=\"rest-row-pricing\"> <i>  $    $    $    </i>   $        </div>,\n",
       " <div class=\"rest-row-pricing\"> <i>  $    $    $    </i>   $        </div>,\n",
       " <div class=\"rest-row-pricing\"> <i>  $    $    $    </i>   $        </div>,\n",
       " <div class=\"rest-row-pricing\"> <i>  $    $      </i>   $    $      </div>]"
      ]
     },
     "execution_count": 28,
     "metadata": {},
     "output_type": "execute_result"
    }
   ],
   "source": [
    "# print out all prices\n",
    "soup.find_all('div', {'class':'rest-row-pricing'})"
   ]
  },
  {
   "cell_type": "code",
   "execution_count": 29,
   "metadata": {},
   "outputs": [
    {
     "name": "stdout",
     "output_type": "stream",
     "text": [
      "  $    $    $    $  \n",
      "  $    $    $    $  \n",
      "  $    $      \n",
      "  $    $      \n",
      "  $    $    $    $  \n",
      "  $    $      \n",
      "  $    $    $    $  \n",
      "  $    $    $    $  \n",
      "  $    $      \n",
      "  $    $    $    \n",
      "  $    $    $    \n",
      "  $    $    $    $  \n",
      "  $    $      \n",
      "  $    $    $    \n",
      "  $    $    $    \n",
      "  $    $      \n",
      "  $    $    $    $  \n",
      "  $    $    $    $  \n",
      "  $    $    $    $  \n",
      "  $    $    $    \n",
      "  $    $    $    $  \n",
      "  $    $    $    $  \n",
      "  $    $      \n",
      "  $    $    $    \n",
      "  $    $      \n",
      "  $    $    $    $  \n",
      "  $    $      \n",
      "  $    $      \n",
      "  $    $    $    \n",
      "  $    $    $    $  \n",
      "  $    $    $    $  \n",
      "  $    $    $    $  \n",
      "  $    $    $    \n",
      "  $    $    $    \n",
      "  $    $      \n",
      "  $    $    $    $  \n",
      "  $    $    $    $  \n",
      "  $    $    $    \n",
      "  $    $    $    $  \n",
      "  $    $    $    \n",
      "  $    $      \n",
      "  $    $      \n",
      "  $    $    $    $  \n",
      "  $    $      \n",
      "  $    $      \n",
      "  $    $      \n",
      "  $    $    $    $  \n",
      "  $    $    $    $  \n",
      "  $    $      \n",
      "  $    $      \n",
      "  $    $      \n",
      "  $    $    $    \n",
      "  $    $    $    $  \n",
      "  $    $    $    $  \n",
      "  $    $    $    $  \n",
      "  $    $      \n",
      "  $    $    $    \n",
      "  $    $    $    $  \n",
      "  $    $      \n",
      "  $    $    $    $  \n",
      "  $    $      \n",
      "  $    $    $    \n",
      "  $    $    $    \n",
      "  $    $    $    $  \n",
      "  $    $      \n",
      "  $    $      \n",
      "  $    $      \n",
      "  $    $      \n",
      "  $    $    $    \n",
      "  $    $      \n",
      "  $    $      \n",
      "  $    $    $    \n",
      "  $    $      \n",
      "  $    $      \n",
      "  $    $      \n",
      "  $    $    $    \n",
      "  $    $    $    \n",
      "  $    $    $    $  \n",
      "  $    $    $    $  \n",
      "  $    $    $    $  \n",
      "  $    $      \n",
      "  $    $    $    $  \n",
      "  $    $    $    $  \n",
      "  $    $      \n",
      "  $    $    $    $  \n",
      "  $    $      \n",
      "  $    $    $    \n",
      "  $    $    $    $  \n",
      "  $    $    $    \n",
      "  $    $      \n",
      "  $    $    $    \n",
      "  $    $    $    \n",
      "  $    $    $    $  \n",
      "  $    $    $    $  \n",
      "  $    $      \n",
      "  $    $    $    \n",
      "  $    $    $    \n",
      "  $    $    $    \n",
      "  $    $    $    \n",
      "  $    $      \n"
     ]
    }
   ],
   "source": [
    "# print out EACH number of dollar signs per restaurant\n",
    "# this one is trickier to eliminate the html. Hint: try a nested find\n",
    "for entry in soup.find_all('div', {'class':'rest-row-pricing'}):\n",
    "    print(entry.find('i').text)"
   ]
  },
  {
   "cell_type": "markdown",
   "metadata": {},
   "source": [
    "That looks great, but what if I wanted just the number of dollar signs per restaurant? Can you figure out a way to simply print out the number of dollar signs per restaurant listed?"
   ]
  },
  {
   "cell_type": "code",
   "execution_count": 30,
   "metadata": {},
   "outputs": [],
   "source": [
    "# print the number of dollars signs per restaurant"
   ]
  },
  {
   "cell_type": "markdown",
   "metadata": {},
   "source": [
    "Phew, nice work. \n",
    "\n",
    "<a id=\"retrieving-bookings\"></a>\n",
    "#### Retrieving the restaurant number of bookings\n",
    "\n",
    "One more, right? We only need to find the number times a restaurant was booked. In the next cell, print out all objects that contain the number of times the restaurant was booked."
   ]
  },
  {
   "cell_type": "code",
   "execution_count": 31,
   "metadata": {},
   "outputs": [
    {
     "data": {
      "text/plain": [
       "[]"
      ]
     },
     "execution_count": 31,
     "metadata": {},
     "output_type": "execute_result"
    }
   ],
   "source": [
    "# print out all objects that contain the number of times the restaurant was booked\n",
    "soup.find_all('div', {'class':'booking'})"
   ]
  },
  {
   "cell_type": "markdown",
   "metadata": {},
   "source": [
    "That's weird -- an empty set. Did we find the wrong element? What's going on here? Discuss.\n",
    "\n",
    "How can we debug this? Any ideas?"
   ]
  },
  {
   "cell_type": "code",
   "execution_count": 32,
   "metadata": {},
   "outputs": [],
   "source": [
    "# let's first try printing out all 'div' objects\n",
    "#  NOTE: This is a too many objects to store in this notebook!\n",
    "#        So, uncomment the code below to run it.\n",
    "\n",
    "# for entry in soup.find_all('div'):\n",
    "#     print(entry)"
   ]
  },
  {
   "cell_type": "markdown",
   "metadata": {},
   "source": [
    "I still don't see it. Let's search our entire soup object:"
   ]
  },
  {
   "cell_type": "code",
   "execution_count": 33,
   "metadata": {},
   "outputs": [],
   "source": [
    "# print out soup, do command+f for \"booked \". \n",
    "#   Uncomment the below to run.\n",
    "\n",
    "# soup"
   ]
  },
  {
   "cell_type": "markdown",
   "metadata": {},
   "source": [
    "What do you notice? Why is this happening?"
   ]
  },
  {
   "cell_type": "markdown",
   "metadata": {},
   "source": [
    "<a id=\"selenium\"></a>\n",
    "## Introducing Selenium\n",
    "\n",
    "Selenium is a headless browser. It allows us to render JavaScript just as a human-navigated browser would.\n",
    "\n",
    "To install Selenium, use one of the following:\n",
    "- **Anaconda:** `conda install -c conda-forge selenium`\n",
    "- **pip:** `pip install selenium`\n",
    "\n",
    "You will also need GeckoDriver (this assumes you are using Homebrew for Mac): \n",
    "\n",
    "- ```brew install geckodriver```\n",
    "\n",
    "Additionally, you will need to have downloaded the [Firefox browser](https://www.mozilla.org/en-US/firefox/new/?utm_source=google&utm_medium=cpc&utm_campaign=Firefox-Brand-US-GGL-Exact&utm_term=firefox&utm_content=A144_A203_A006336&gclid=Cj0KEQjwnPLKBRC-j7nt1b7OlZwBEiQAv8lMLJUyReT6cPzSYdmEA6uD3YDoieuuuusddgAU7XH6smEaAoje8P8HAQ&gclsrc=aw.ds) for the application in this lesson."
   ]
  },
  {
   "cell_type": "code",
   "execution_count": 34,
   "metadata": {},
   "outputs": [],
   "source": [
    "# import\n",
    "from selenium import webdriver"
   ]
  },
  {
   "cell_type": "markdown",
   "metadata": {},
   "source": [
    "Selenium requires us to determine a default browser to run. I'm going to opt for Firefox, but Chromium is also a very common choice. http://selenium-python.readthedocs.io/faq.html"
   ]
  },
  {
   "cell_type": "code",
   "execution_count": 35,
   "metadata": {},
   "outputs": [],
   "source": [
    "# STOP\n",
    "# what is going to happen when I run the next cell?"
   ]
  },
  {
   "cell_type": "code",
   "execution_count": 37,
   "metadata": {},
   "outputs": [],
   "source": [
    "# create a driver called Firefox\n",
    "driver = webdriver.Firefox()"
   ]
  },
  {
   "cell_type": "markdown",
   "metadata": {},
   "source": [
    "Pretty crazy, right? Let's close that driver."
   ]
  },
  {
   "cell_type": "code",
   "execution_count": 38,
   "metadata": {},
   "outputs": [],
   "source": [
    "# close it\n",
    "driver.close()"
   ]
  },
  {
   "cell_type": "code",
   "execution_count": 39,
   "metadata": {},
   "outputs": [],
   "source": [
    "# let's boot it up, and visit a URL of our choice\n",
    "driver = webdriver.Firefox()\n",
    "driver.get(\"http://www.python.org\")"
   ]
  },
  {
   "cell_type": "markdown",
   "metadata": {},
   "source": [
    "Awesome. Now we're getting somewhere: programmatically controlling our browser like a human."
   ]
  },
  {
   "cell_type": "markdown",
   "metadata": {},
   "source": [
    "Let's return to our problem at hand. We need to visit the OpenTable listing for DC. Once there, we need to get the html to load. In the next cell, prove you can programmatically visit the page."
   ]
  },
  {
   "cell_type": "code",
   "execution_count": 40,
   "metadata": {},
   "outputs": [],
   "source": [
    "# visit our OpenTable page\n",
    "driver = webdriver.Firefox()\n",
    "driver.get(\"http://www.opentable.com/washington-dc-restaurant-listings\")\n",
    "\n",
    "# always good to check we've got the page we think we do\n",
    "assert \"OpenTable\" in driver.title"
   ]
  },
  {
   "cell_type": "code",
   "execution_count": 41,
   "metadata": {},
   "outputs": [
    {
     "data": {
      "text/plain": [
       "'Washington, D.C. Area Restaurants List | OpenTable'"
      ]
     },
     "execution_count": 41,
     "metadata": {},
     "output_type": "execute_result"
    }
   ],
   "source": [
    "driver.title"
   ]
  },
  {
   "cell_type": "code",
   "execution_count": 42,
   "metadata": {},
   "outputs": [],
   "source": [
    "driver.close()"
   ]
  },
  {
   "cell_type": "markdown",
   "metadata": {},
   "source": [
    "<a id=\"selenium-js\"></a>\n",
    "### Running JavaScript before scraping\n",
    "\n",
    "Now, to resolve our JavaScript problem, there's a few things we can do. What I'll do in this case is request that the page load, wait one second, and then I'm going to grab the source html from the page. Because the page should believe I'm visiting from a live connection on a browser client, the JavaScript should render to be a part of the page source. I can then grab the page source."
   ]
  },
  {
   "cell_type": "code",
   "execution_count": 43,
   "metadata": {},
   "outputs": [],
   "source": [
    "# import sleep\n",
    "from time import sleep"
   ]
  },
  {
   "cell_type": "code",
   "execution_count": 44,
   "metadata": {},
   "outputs": [],
   "source": [
    "# visit our relevant page\n",
    "driver = webdriver.Firefox()\n",
    "driver.get(\"http://www.opentable.com/washington-dc-restaurant-listings\")\n",
    "\n",
    "# wait one second\n",
    "sleep(1)\n",
    "\n",
    "#grab the page source\n",
    "html = driver.page_source"
   ]
  },
  {
   "cell_type": "markdown",
   "metadata": {},
   "source": [
    "**Pop Quiz:** What do we need to do with this HTML?"
   ]
  },
  {
   "cell_type": "code",
   "execution_count": 45,
   "metadata": {},
   "outputs": [],
   "source": [
    "# BeautifulSoup it!\n",
    "html = BeautifulSoup(html, \"lxml\")"
   ]
  },
  {
   "cell_type": "markdown",
   "metadata": {},
   "source": [
    "Now, let's return to our earlier problem: How do we locate bookings on the page?"
   ]
  },
  {
   "cell_type": "code",
   "execution_count": 46,
   "metadata": {},
   "outputs": [
    {
     "data": {
      "text/plain": [
       "[<div class=\"booking\"><span class=\"tadpole\"></span>Booked 365 times today</div>,\n",
       " <div class=\"booking\"><span class=\"tadpole\"></span>Booked 309 times today</div>,\n",
       " <div class=\"booking\"><span class=\"tadpole\"></span>Booked 90 times today</div>,\n",
       " <div class=\"booking\"><span class=\"tadpole\"></span>Booked 187 times today</div>,\n",
       " <div class=\"booking\"><span class=\"tadpole\"></span>Booked 111 times today</div>,\n",
       " <div class=\"booking\"><span class=\"tadpole\"></span>Booked 93 times today</div>,\n",
       " <div class=\"booking\"><span class=\"tadpole\"></span>Booked 57 times today</div>,\n",
       " <div class=\"booking\"><span class=\"tadpole\"></span>Booked 37 times today</div>,\n",
       " <div class=\"booking\"><span class=\"tadpole\"></span>Booked 114 times today</div>,\n",
       " <div class=\"booking\"><span class=\"tadpole\"></span>Booked 53 times today</div>,\n",
       " <div class=\"booking\"><span class=\"tadpole\"></span>Booked 60 times today</div>,\n",
       " <div class=\"booking\"><span class=\"tadpole\"></span>Booked 11 times today</div>,\n",
       " <div class=\"booking\"><span class=\"tadpole\"></span>Booked 37 times today</div>,\n",
       " <div class=\"booking\"><span class=\"tadpole\"></span>Booked 27 times today</div>,\n",
       " <div class=\"booking\"><span class=\"tadpole\"></span>Booked 48 times today</div>,\n",
       " <div class=\"booking\"><span class=\"tadpole\"></span>Booked 16 times today</div>,\n",
       " <div class=\"booking\"><span class=\"tadpole\"></span>Booked 54 times today</div>,\n",
       " <div class=\"booking\"><span class=\"tadpole\"></span>Booked 43 times today</div>,\n",
       " <div class=\"booking\"><span class=\"tadpole\"></span>Booked 69 times today</div>,\n",
       " <div class=\"booking\"><span class=\"tadpole\"></span>Booked 62 times today</div>,\n",
       " <div class=\"booking\"><span class=\"tadpole\"></span>Booked 6 times today</div>,\n",
       " <div class=\"booking\"><span class=\"tadpole\"></span>Booked 44 times today</div>,\n",
       " <div class=\"booking\"><span class=\"tadpole\"></span>Booked 29 times today</div>,\n",
       " <div class=\"booking\"><span class=\"tadpole\"></span>Booked 96 times today</div>,\n",
       " <div class=\"booking\"><span class=\"tadpole\"></span>Booked 51 times today</div>,\n",
       " <div class=\"booking\"><span class=\"tadpole\"></span>Booked 53 times today</div>,\n",
       " <div class=\"booking\"><span class=\"tadpole\"></span>Booked 11 times today</div>,\n",
       " <div class=\"booking\"><span class=\"tadpole\"></span>Booked 66 times today</div>,\n",
       " <div class=\"booking\"><span class=\"tadpole\"></span>Booked 21 times today</div>,\n",
       " <div class=\"booking\"><span class=\"tadpole\"></span>Booked 62 times today</div>,\n",
       " <div class=\"booking\"><span class=\"tadpole\"></span>Booked 93 times today</div>,\n",
       " <div class=\"booking\"><span class=\"tadpole\"></span>Booked 56 times today</div>,\n",
       " <div class=\"booking\"><span class=\"tadpole\"></span>Booked 13 times today</div>,\n",
       " <div class=\"booking\"><span class=\"tadpole\"></span>Booked 43 times today</div>,\n",
       " <div class=\"booking\"><span class=\"tadpole\"></span>Booked 72 times today</div>,\n",
       " <div class=\"booking\"><span class=\"tadpole\"></span>Booked 60 times today</div>,\n",
       " <div class=\"booking\"><span class=\"tadpole\"></span>Booked 57 times today</div>,\n",
       " <div class=\"booking\"><span class=\"tadpole\"></span>Booked 15 times today</div>,\n",
       " <div class=\"booking\"><span class=\"tadpole\"></span>Booked 76 times today</div>,\n",
       " <div class=\"booking\"><span class=\"tadpole\"></span>Booked 16 times today</div>,\n",
       " <div class=\"booking\"><span class=\"tadpole\"></span>Booked 32 times today</div>,\n",
       " <div class=\"booking\"><span class=\"tadpole\"></span>Booked 6 times today</div>,\n",
       " <div class=\"booking\"><span class=\"tadpole\"></span>Booked 56 times today</div>,\n",
       " <div class=\"booking\"><span class=\"tadpole\"></span>Booked 28 times today</div>,\n",
       " <div class=\"booking\"><span class=\"tadpole\"></span>Booked 32 times today</div>,\n",
       " <div class=\"booking\"><span class=\"tadpole\"></span>Booked 10 times today</div>,\n",
       " <div class=\"booking\"><span class=\"tadpole\"></span>Booked 18 times today</div>,\n",
       " <div class=\"booking\"><span class=\"tadpole\"></span>Booked 137 times today</div>,\n",
       " <div class=\"booking\"><span class=\"tadpole\"></span>Booked 28 times today</div>,\n",
       " <div class=\"booking\"><span class=\"tadpole\"></span>Booked 6 times today</div>,\n",
       " <div class=\"booking\"><span class=\"tadpole\"></span>Booked 9 times today</div>,\n",
       " <div class=\"booking\"><span class=\"tadpole\"></span>Booked 47 times today</div>,\n",
       " <div class=\"booking\"><span class=\"tadpole\"></span>Booked 9 times today</div>,\n",
       " <div class=\"booking\"><span class=\"tadpole\"></span>Booked 16 times today</div>,\n",
       " <div class=\"booking\"><span class=\"tadpole\"></span>Booked 16 times today</div>,\n",
       " <div class=\"booking\"><span class=\"tadpole\"></span>Booked 52 times today</div>,\n",
       " <div class=\"booking\"><span class=\"tadpole\"></span>Booked 21 times today</div>,\n",
       " <div class=\"booking\"><span class=\"tadpole\"></span>Booked 22 times today</div>,\n",
       " <div class=\"booking\"><span class=\"tadpole\"></span>Booked 38 times today</div>,\n",
       " <div class=\"booking\"><span class=\"tadpole\"></span>Booked 9 times today</div>,\n",
       " <div class=\"booking\"><span class=\"tadpole\"></span>Booked 5 times today</div>,\n",
       " <div class=\"booking\"><span class=\"tadpole\"></span>Booked 18 times today</div>,\n",
       " <div class=\"booking\"><span class=\"tadpole\"></span>Booked 22 times today</div>,\n",
       " <div class=\"booking\"><span class=\"tadpole\"></span>Booked 7 times today</div>,\n",
       " <div class=\"booking\"><span class=\"tadpole\"></span>Booked 52 times today</div>,\n",
       " <div class=\"booking\"><span class=\"tadpole\"></span>Booked 22 times today</div>,\n",
       " <div class=\"booking\"><span class=\"tadpole\"></span>Booked 12 times today</div>,\n",
       " <div class=\"booking\"><span class=\"tadpole\"></span>Booked 47 times today</div>,\n",
       " <div class=\"booking\"><span class=\"tadpole\"></span>Booked 23 times today</div>,\n",
       " <div class=\"booking\"><span class=\"tadpole\"></span>Booked 19 times today</div>,\n",
       " <div class=\"booking\"><span class=\"tadpole\"></span>Booked 12 times today</div>,\n",
       " <div class=\"booking\"><span class=\"tadpole\"></span>Booked 23 times today</div>,\n",
       " <div class=\"booking\"><span class=\"tadpole\"></span>Booked 31 times today</div>,\n",
       " <div class=\"booking\"><span class=\"tadpole\"></span>Booked 17 times today</div>,\n",
       " <div class=\"booking\"><span class=\"tadpole\"></span>Booked 8 times today</div>,\n",
       " <div class=\"booking\"><span class=\"tadpole\"></span>Booked 14 times today</div>,\n",
       " <div class=\"booking\"><span class=\"tadpole\"></span>Booked 38 times today</div>,\n",
       " <div class=\"booking\"><span class=\"tadpole\"></span>Booked 8 times today</div>,\n",
       " <div class=\"booking\"><span class=\"tadpole\"></span>Booked 9 times today</div>,\n",
       " <div class=\"booking\"><span class=\"tadpole\"></span>Booked 6 times today</div>,\n",
       " <div class=\"booking\"><span class=\"tadpole\"></span>Booked 10 times today</div>,\n",
       " <div class=\"booking\"><span class=\"tadpole\"></span>Booked 50 times today</div>,\n",
       " <div class=\"booking\"><span class=\"tadpole\"></span>Booked 49 times today</div>,\n",
       " <div class=\"booking\"><span class=\"tadpole\"></span>Booked 26 times today</div>,\n",
       " <div class=\"booking\"><span class=\"tadpole\"></span>Booked 13 times today</div>,\n",
       " <div class=\"booking\"><span class=\"tadpole\"></span>Booked 22 times today</div>,\n",
       " <div class=\"booking\"><span class=\"tadpole\"></span>Booked 3 times today</div>,\n",
       " <div class=\"booking\"><span class=\"tadpole\"></span>Booked 14 times today</div>,\n",
       " <div class=\"booking\"><span class=\"tadpole\"></span>Booked 69 times today</div>,\n",
       " <div class=\"booking\"><span class=\"tadpole\"></span>Booked 4 times today</div>,\n",
       " <div class=\"booking\"><span class=\"tadpole\"></span>Booked 12 times today</div>,\n",
       " <div class=\"booking\"><span class=\"tadpole\"></span>Booked 11 times today</div>,\n",
       " <div class=\"booking\"><span class=\"tadpole\"></span>Booked 5 times today</div>,\n",
       " <div class=\"booking\"><span class=\"tadpole\"></span>Booked 9 times today</div>,\n",
       " <div class=\"booking\"><span class=\"tadpole\"></span>Booked 10 times today</div>,\n",
       " <div class=\"booking\"><span class=\"tadpole\"></span>Booked 29 times today</div>,\n",
       " <div class=\"booking\"><span class=\"tadpole\"></span>Booked 28 times today</div>]"
      ]
     },
     "execution_count": 46,
     "metadata": {},
     "output_type": "execute_result"
    }
   ],
   "source": [
    "# print out the number bookings for all restaurants\n",
    "html.find_all('div', {'class':'booking'})"
   ]
  },
  {
   "cell_type": "code",
   "execution_count": 47,
   "metadata": {
    "scrolled": true
   },
   "outputs": [
    {
     "name": "stdout",
     "output_type": "stream",
     "text": [
      "<div class=\"booking\"><span class=\"tadpole\"></span>Booked 365 times today</div>\n",
      "<div class=\"booking\"><span class=\"tadpole\"></span>Booked 309 times today</div>\n",
      "<div class=\"booking\"><span class=\"tadpole\"></span>Booked 90 times today</div>\n",
      "<div class=\"booking\"><span class=\"tadpole\"></span>Booked 187 times today</div>\n",
      "<div class=\"booking\"><span class=\"tadpole\"></span>Booked 111 times today</div>\n",
      "<div class=\"booking\"><span class=\"tadpole\"></span>Booked 93 times today</div>\n",
      "<div class=\"booking\"><span class=\"tadpole\"></span>Booked 57 times today</div>\n",
      "<div class=\"booking\"><span class=\"tadpole\"></span>Booked 37 times today</div>\n",
      "<div class=\"booking\"><span class=\"tadpole\"></span>Booked 114 times today</div>\n",
      "<div class=\"booking\"><span class=\"tadpole\"></span>Booked 53 times today</div>\n",
      "<div class=\"booking\"><span class=\"tadpole\"></span>Booked 60 times today</div>\n",
      "<div class=\"booking\"><span class=\"tadpole\"></span>Booked 11 times today</div>\n",
      "<div class=\"booking\"><span class=\"tadpole\"></span>Booked 37 times today</div>\n",
      "<div class=\"booking\"><span class=\"tadpole\"></span>Booked 27 times today</div>\n",
      "<div class=\"booking\"><span class=\"tadpole\"></span>Booked 48 times today</div>\n",
      "<div class=\"booking\"><span class=\"tadpole\"></span>Booked 16 times today</div>\n",
      "<div class=\"booking\"><span class=\"tadpole\"></span>Booked 54 times today</div>\n",
      "<div class=\"booking\"><span class=\"tadpole\"></span>Booked 43 times today</div>\n",
      "<div class=\"booking\"><span class=\"tadpole\"></span>Booked 69 times today</div>\n",
      "<div class=\"booking\"><span class=\"tadpole\"></span>Booked 62 times today</div>\n",
      "<div class=\"booking\"><span class=\"tadpole\"></span>Booked 6 times today</div>\n",
      "<div class=\"booking\"><span class=\"tadpole\"></span>Booked 44 times today</div>\n",
      "<div class=\"booking\"><span class=\"tadpole\"></span>Booked 29 times today</div>\n",
      "<div class=\"booking\"><span class=\"tadpole\"></span>Booked 96 times today</div>\n",
      "<div class=\"booking\"><span class=\"tadpole\"></span>Booked 51 times today</div>\n",
      "<div class=\"booking\"><span class=\"tadpole\"></span>Booked 53 times today</div>\n",
      "<div class=\"booking\"><span class=\"tadpole\"></span>Booked 11 times today</div>\n",
      "<div class=\"booking\"><span class=\"tadpole\"></span>Booked 66 times today</div>\n",
      "<div class=\"booking\"><span class=\"tadpole\"></span>Booked 21 times today</div>\n",
      "<div class=\"booking\"><span class=\"tadpole\"></span>Booked 62 times today</div>\n",
      "<div class=\"booking\"><span class=\"tadpole\"></span>Booked 93 times today</div>\n",
      "<div class=\"booking\"><span class=\"tadpole\"></span>Booked 56 times today</div>\n",
      "<div class=\"booking\"><span class=\"tadpole\"></span>Booked 13 times today</div>\n",
      "<div class=\"booking\"><span class=\"tadpole\"></span>Booked 43 times today</div>\n",
      "<div class=\"booking\"><span class=\"tadpole\"></span>Booked 72 times today</div>\n",
      "<div class=\"booking\"><span class=\"tadpole\"></span>Booked 60 times today</div>\n",
      "<div class=\"booking\"><span class=\"tadpole\"></span>Booked 57 times today</div>\n",
      "<div class=\"booking\"><span class=\"tadpole\"></span>Booked 15 times today</div>\n",
      "<div class=\"booking\"><span class=\"tadpole\"></span>Booked 76 times today</div>\n",
      "<div class=\"booking\"><span class=\"tadpole\"></span>Booked 16 times today</div>\n",
      "<div class=\"booking\"><span class=\"tadpole\"></span>Booked 32 times today</div>\n",
      "<div class=\"booking\"><span class=\"tadpole\"></span>Booked 6 times today</div>\n",
      "<div class=\"booking\"><span class=\"tadpole\"></span>Booked 56 times today</div>\n",
      "<div class=\"booking\"><span class=\"tadpole\"></span>Booked 28 times today</div>\n",
      "<div class=\"booking\"><span class=\"tadpole\"></span>Booked 32 times today</div>\n",
      "<div class=\"booking\"><span class=\"tadpole\"></span>Booked 10 times today</div>\n",
      "<div class=\"booking\"><span class=\"tadpole\"></span>Booked 18 times today</div>\n",
      "<div class=\"booking\"><span class=\"tadpole\"></span>Booked 137 times today</div>\n",
      "<div class=\"booking\"><span class=\"tadpole\"></span>Booked 28 times today</div>\n",
      "<div class=\"booking\"><span class=\"tadpole\"></span>Booked 6 times today</div>\n",
      "<div class=\"booking\"><span class=\"tadpole\"></span>Booked 9 times today</div>\n",
      "<div class=\"booking\"><span class=\"tadpole\"></span>Booked 47 times today</div>\n",
      "<div class=\"booking\"><span class=\"tadpole\"></span>Booked 9 times today</div>\n",
      "<div class=\"booking\"><span class=\"tadpole\"></span>Booked 16 times today</div>\n",
      "<div class=\"booking\"><span class=\"tadpole\"></span>Booked 16 times today</div>\n",
      "<div class=\"booking\"><span class=\"tadpole\"></span>Booked 52 times today</div>\n",
      "<div class=\"booking\"><span class=\"tadpole\"></span>Booked 21 times today</div>\n",
      "<div class=\"booking\"><span class=\"tadpole\"></span>Booked 22 times today</div>\n",
      "<div class=\"booking\"><span class=\"tadpole\"></span>Booked 38 times today</div>\n",
      "<div class=\"booking\"><span class=\"tadpole\"></span>Booked 9 times today</div>\n",
      "<div class=\"booking\"><span class=\"tadpole\"></span>Booked 5 times today</div>\n",
      "<div class=\"booking\"><span class=\"tadpole\"></span>Booked 18 times today</div>\n",
      "<div class=\"booking\"><span class=\"tadpole\"></span>Booked 22 times today</div>\n",
      "<div class=\"booking\"><span class=\"tadpole\"></span>Booked 7 times today</div>\n",
      "<div class=\"booking\"><span class=\"tadpole\"></span>Booked 52 times today</div>\n",
      "<div class=\"booking\"><span class=\"tadpole\"></span>Booked 22 times today</div>\n",
      "<div class=\"booking\"><span class=\"tadpole\"></span>Booked 12 times today</div>\n",
      "<div class=\"booking\"><span class=\"tadpole\"></span>Booked 47 times today</div>\n",
      "<div class=\"booking\"><span class=\"tadpole\"></span>Booked 23 times today</div>\n",
      "<div class=\"booking\"><span class=\"tadpole\"></span>Booked 19 times today</div>\n",
      "<div class=\"booking\"><span class=\"tadpole\"></span>Booked 12 times today</div>\n",
      "<div class=\"booking\"><span class=\"tadpole\"></span>Booked 23 times today</div>\n",
      "<div class=\"booking\"><span class=\"tadpole\"></span>Booked 31 times today</div>\n",
      "<div class=\"booking\"><span class=\"tadpole\"></span>Booked 17 times today</div>\n",
      "<div class=\"booking\"><span class=\"tadpole\"></span>Booked 8 times today</div>\n",
      "<div class=\"booking\"><span class=\"tadpole\"></span>Booked 14 times today</div>\n",
      "<div class=\"booking\"><span class=\"tadpole\"></span>Booked 38 times today</div>\n",
      "<div class=\"booking\"><span class=\"tadpole\"></span>Booked 8 times today</div>\n",
      "<div class=\"booking\"><span class=\"tadpole\"></span>Booked 9 times today</div>\n",
      "<div class=\"booking\"><span class=\"tadpole\"></span>Booked 6 times today</div>\n",
      "<div class=\"booking\"><span class=\"tadpole\"></span>Booked 10 times today</div>\n",
      "<div class=\"booking\"><span class=\"tadpole\"></span>Booked 50 times today</div>\n",
      "<div class=\"booking\"><span class=\"tadpole\"></span>Booked 49 times today</div>\n",
      "<div class=\"booking\"><span class=\"tadpole\"></span>Booked 26 times today</div>\n",
      "<div class=\"booking\"><span class=\"tadpole\"></span>Booked 13 times today</div>\n",
      "<div class=\"booking\"><span class=\"tadpole\"></span>Booked 22 times today</div>\n",
      "<div class=\"booking\"><span class=\"tadpole\"></span>Booked 3 times today</div>\n",
      "<div class=\"booking\"><span class=\"tadpole\"></span>Booked 14 times today</div>\n",
      "<div class=\"booking\"><span class=\"tadpole\"></span>Booked 69 times today</div>\n",
      "<div class=\"booking\"><span class=\"tadpole\"></span>Booked 4 times today</div>\n",
      "<div class=\"booking\"><span class=\"tadpole\"></span>Booked 12 times today</div>\n",
      "<div class=\"booking\"><span class=\"tadpole\"></span>Booked 11 times today</div>\n",
      "<div class=\"booking\"><span class=\"tadpole\"></span>Booked 5 times today</div>\n",
      "<div class=\"booking\"><span class=\"tadpole\"></span>Booked 9 times today</div>\n",
      "<div class=\"booking\"><span class=\"tadpole\"></span>Booked 10 times today</div>\n",
      "<div class=\"booking\"><span class=\"tadpole\"></span>Booked 29 times today</div>\n",
      "<div class=\"booking\"><span class=\"tadpole\"></span>Booked 28 times today</div>\n"
     ]
    }
   ],
   "source": [
    "# now print out each booking for the listings using a loop\n",
    "for entry in html.find_all('div', {'class':'booking'}):\n",
    "    print(entry)"
   ]
  },
  {
   "cell_type": "markdown",
   "metadata": {},
   "source": [
    "Let's grab just the text of each of these entries."
   ]
  },
  {
   "cell_type": "code",
   "execution_count": 48,
   "metadata": {},
   "outputs": [
    {
     "name": "stdout",
     "output_type": "stream",
     "text": [
      "Booked 365 times today\n",
      "Booked 309 times today\n",
      "Booked 90 times today\n",
      "Booked 187 times today\n",
      "Booked 111 times today\n",
      "Booked 93 times today\n",
      "Booked 57 times today\n",
      "Booked 37 times today\n",
      "Booked 114 times today\n",
      "Booked 53 times today\n",
      "Booked 60 times today\n",
      "Booked 11 times today\n",
      "Booked 37 times today\n",
      "Booked 27 times today\n",
      "Booked 48 times today\n",
      "Booked 16 times today\n",
      "Booked 54 times today\n",
      "Booked 43 times today\n",
      "Booked 69 times today\n",
      "Booked 62 times today\n",
      "Booked 6 times today\n",
      "Booked 44 times today\n",
      "Booked 29 times today\n",
      "Booked 96 times today\n",
      "Booked 51 times today\n",
      "Booked 53 times today\n",
      "Booked 11 times today\n",
      "Booked 66 times today\n",
      "Booked 21 times today\n",
      "Booked 62 times today\n",
      "Booked 93 times today\n",
      "Booked 56 times today\n",
      "Booked 13 times today\n",
      "Booked 43 times today\n",
      "Booked 72 times today\n",
      "Booked 60 times today\n",
      "Booked 57 times today\n",
      "Booked 15 times today\n",
      "Booked 76 times today\n",
      "Booked 16 times today\n",
      "Booked 32 times today\n",
      "Booked 6 times today\n",
      "Booked 56 times today\n",
      "Booked 28 times today\n",
      "Booked 32 times today\n",
      "Booked 10 times today\n",
      "Booked 18 times today\n",
      "Booked 137 times today\n",
      "Booked 28 times today\n",
      "Booked 6 times today\n",
      "Booked 9 times today\n",
      "Booked 47 times today\n",
      "Booked 9 times today\n",
      "Booked 16 times today\n",
      "Booked 16 times today\n",
      "Booked 52 times today\n",
      "Booked 21 times today\n",
      "Booked 22 times today\n",
      "Booked 38 times today\n",
      "Booked 9 times today\n",
      "Booked 5 times today\n",
      "Booked 18 times today\n",
      "Booked 22 times today\n",
      "Booked 7 times today\n",
      "Booked 52 times today\n",
      "Booked 22 times today\n",
      "Booked 12 times today\n",
      "Booked 47 times today\n",
      "Booked 23 times today\n",
      "Booked 19 times today\n",
      "Booked 12 times today\n",
      "Booked 23 times today\n",
      "Booked 31 times today\n",
      "Booked 17 times today\n",
      "Booked 8 times today\n",
      "Booked 14 times today\n",
      "Booked 38 times today\n",
      "Booked 8 times today\n",
      "Booked 9 times today\n",
      "Booked 6 times today\n",
      "Booked 10 times today\n",
      "Booked 50 times today\n",
      "Booked 49 times today\n",
      "Booked 26 times today\n",
      "Booked 13 times today\n",
      "Booked 22 times today\n",
      "Booked 3 times today\n",
      "Booked 14 times today\n",
      "Booked 69 times today\n",
      "Booked 4 times today\n",
      "Booked 12 times today\n",
      "Booked 11 times today\n",
      "Booked 5 times today\n",
      "Booked 9 times today\n",
      "Booked 10 times today\n",
      "Booked 29 times today\n",
      "Booked 28 times today\n"
     ]
    }
   ],
   "source": [
    "# do the same as above, but grabbing only the text content\n",
    "for entry in html.find_all('div', {'class':'booking'}):\n",
    "    print(entry.text)"
   ]
  },
  {
   "cell_type": "code",
   "execution_count": 49,
   "metadata": {},
   "outputs": [],
   "source": [
    "driver.close()"
   ]
  },
  {
   "cell_type": "markdown",
   "metadata": {},
   "source": [
    "We've succeeded!\n",
    "\n",
    "<a id=\"selenium-regex\"></a>\n",
    "### Using regex to only get digits\n",
    "\n",
    "But we can clean this up a little bit. We're going to use regular expressions (regex) to grab only the digits that are available in each of the text.\n",
    "\n",
    "The best way to get good at regex is to, well, just keep trying and testing: http://pythex.org/"
   ]
  },
  {
   "cell_type": "code",
   "execution_count": 50,
   "metadata": {},
   "outputs": [],
   "source": [
    "# import regex\n",
    "import re"
   ]
  },
  {
   "cell_type": "markdown",
   "metadata": {},
   "source": [
    "Given we haven't covered regex, I'll show you how to use the search function to match any given digit."
   ]
  },
  {
   "cell_type": "code",
   "execution_count": 51,
   "metadata": {},
   "outputs": [
    {
     "name": "stdout",
     "output_type": "stream",
     "text": [
      "365\n",
      "309\n",
      "90\n",
      "187\n",
      "111\n",
      "93\n",
      "57\n",
      "37\n",
      "114\n",
      "53\n",
      "60\n",
      "11\n",
      "37\n",
      "27\n",
      "48\n",
      "16\n",
      "54\n",
      "43\n",
      "69\n",
      "62\n",
      "6\n",
      "44\n",
      "29\n",
      "96\n",
      "51\n",
      "53\n",
      "11\n",
      "66\n",
      "21\n",
      "62\n",
      "93\n",
      "56\n",
      "13\n",
      "43\n",
      "72\n",
      "60\n",
      "57\n",
      "15\n",
      "76\n",
      "16\n",
      "32\n",
      "6\n",
      "56\n",
      "28\n",
      "32\n",
      "10\n",
      "18\n",
      "137\n",
      "28\n",
      "6\n",
      "9\n",
      "47\n",
      "9\n",
      "16\n",
      "16\n",
      "52\n",
      "21\n",
      "22\n",
      "38\n",
      "9\n",
      "5\n",
      "18\n",
      "22\n",
      "7\n",
      "52\n",
      "22\n",
      "12\n",
      "47\n",
      "23\n",
      "19\n",
      "12\n",
      "23\n",
      "31\n",
      "17\n",
      "8\n",
      "14\n",
      "38\n",
      "8\n",
      "9\n",
      "6\n",
      "10\n",
      "50\n",
      "49\n",
      "26\n",
      "13\n",
      "22\n",
      "3\n",
      "14\n",
      "69\n",
      "4\n",
      "12\n",
      "11\n",
      "5\n",
      "9\n",
      "10\n",
      "29\n",
      "28\n"
     ]
    }
   ],
   "source": [
    "# for each entry, grab the text\n",
    "for booking in html.find_all('div', {'class':'booking'}):\n",
    "    # match all digits\n",
    "    match = re.search('\\d+', booking.text)\n",
    "    \n",
    "    if match:\n",
    "        # print if found\n",
    "        print(match.group())\n",
    "    else:\n",
    "        # otherwise pass\n",
    "        pass"
   ]
  },
  {
   "cell_type": "markdown",
   "metadata": {},
   "source": [
    "Before we demonstrate all the other amazing things about headless browsers, let's finish up collecting the data we want from this current example. Do you suppose the html parsing we wrote above will still work on the page source we've grabbed from our headless browser?"
   ]
  },
  {
   "cell_type": "markdown",
   "metadata": {},
   "source": [
    "To be most efficient, we want to only do a single loop for each entry on the page. That means we want to find what element all of other other elements (name, location, price, bookings) is housed within. Where on the page is each entry located?"
   ]
  },
  {
   "cell_type": "code",
   "execution_count": 52,
   "metadata": {},
   "outputs": [],
   "source": [
    "# print out all entries\n",
    "#   NOTE: Has many entries. Uncomment the below code to run it!\n",
    "\n",
    "# soup.find_all('div', {'class':'result content-section-list-row cf with-times'})"
   ]
  },
  {
   "cell_type": "markdown",
   "metadata": {},
   "source": [
    "Look over the page. Does every single entry have each element we're seeking?\n",
    "> I did this previously. I know for a fact that not every element has a number of recent bookings. That's probably exactly why OpenTable houses this in JavaScript: they want to continously update the number of bookings with the most relevant number of values."
   ]
  },
  {
   "cell_type": "code",
   "execution_count": 53,
   "metadata": {
    "scrolled": true
   },
   "outputs": [
    {
     "name": "stdout",
     "output_type": "stream",
     "text": [
      "None\n",
      "None\n",
      "<div class=\"booking\"><span class=\"tadpole\"></span>Booked 365 times today</div>\n",
      "<div class=\"booking\"><span class=\"tadpole\"></span>Booked 309 times today</div>\n",
      "<div class=\"booking\"><span class=\"tadpole\"></span>Booked 90 times today</div>\n",
      "<div class=\"booking\"><span class=\"tadpole\"></span>Booked 187 times today</div>\n",
      "<div class=\"booking\"><span class=\"tadpole\"></span>Booked 111 times today</div>\n",
      "<div class=\"booking\"><span class=\"tadpole\"></span>Booked 93 times today</div>\n",
      "<div class=\"booking\"><span class=\"tadpole\"></span>Booked 57 times today</div>\n",
      "<div class=\"booking\"><span class=\"tadpole\"></span>Booked 37 times today</div>\n",
      "<div class=\"booking\"><span class=\"tadpole\"></span>Booked 114 times today</div>\n",
      "<div class=\"booking\"><span class=\"tadpole\"></span>Booked 53 times today</div>\n",
      "<div class=\"booking\"><span class=\"tadpole\"></span>Booked 60 times today</div>\n",
      "<div class=\"booking\"><span class=\"tadpole\"></span>Booked 11 times today</div>\n",
      "<div class=\"booking\"><span class=\"tadpole\"></span>Booked 37 times today</div>\n",
      "<div class=\"booking\"><span class=\"tadpole\"></span>Booked 27 times today</div>\n",
      "<div class=\"booking\"><span class=\"tadpole\"></span>Booked 48 times today</div>\n",
      "<div class=\"booking\"><span class=\"tadpole\"></span>Booked 16 times today</div>\n",
      "<div class=\"booking\"><span class=\"tadpole\"></span>Booked 54 times today</div>\n",
      "<div class=\"booking\"><span class=\"tadpole\"></span>Booked 43 times today</div>\n",
      "<div class=\"booking\"><span class=\"tadpole\"></span>Booked 69 times today</div>\n",
      "<div class=\"booking\"><span class=\"tadpole\"></span>Booked 62 times today</div>\n",
      "<div class=\"booking\"><span class=\"tadpole\"></span>Booked 6 times today</div>\n",
      "<div class=\"booking\"><span class=\"tadpole\"></span>Booked 44 times today</div>\n",
      "<div class=\"booking\"><span class=\"tadpole\"></span>Booked 29 times today</div>\n",
      "<div class=\"booking\"><span class=\"tadpole\"></span>Booked 96 times today</div>\n",
      "<div class=\"booking\"><span class=\"tadpole\"></span>Booked 51 times today</div>\n",
      "<div class=\"booking\"><span class=\"tadpole\"></span>Booked 53 times today</div>\n",
      "<div class=\"booking\"><span class=\"tadpole\"></span>Booked 11 times today</div>\n",
      "<div class=\"booking\"><span class=\"tadpole\"></span>Booked 66 times today</div>\n",
      "<div class=\"booking\"><span class=\"tadpole\"></span>Booked 21 times today</div>\n",
      "<div class=\"booking\"><span class=\"tadpole\"></span>Booked 62 times today</div>\n",
      "<div class=\"booking\"><span class=\"tadpole\"></span>Booked 93 times today</div>\n",
      "<div class=\"booking\"><span class=\"tadpole\"></span>Booked 56 times today</div>\n",
      "<div class=\"booking\"><span class=\"tadpole\"></span>Booked 13 times today</div>\n",
      "<div class=\"booking\"><span class=\"tadpole\"></span>Booked 43 times today</div>\n",
      "<div class=\"booking\"><span class=\"tadpole\"></span>Booked 72 times today</div>\n",
      "<div class=\"booking\"><span class=\"tadpole\"></span>Booked 60 times today</div>\n",
      "<div class=\"booking\"><span class=\"tadpole\"></span>Booked 57 times today</div>\n",
      "<div class=\"booking\"><span class=\"tadpole\"></span>Booked 15 times today</div>\n",
      "<div class=\"booking\"><span class=\"tadpole\"></span>Booked 76 times today</div>\n",
      "<div class=\"booking\"><span class=\"tadpole\"></span>Booked 16 times today</div>\n",
      "<div class=\"booking\"><span class=\"tadpole\"></span>Booked 32 times today</div>\n",
      "<div class=\"booking\"><span class=\"tadpole\"></span>Booked 6 times today</div>\n",
      "<div class=\"booking\"><span class=\"tadpole\"></span>Booked 56 times today</div>\n",
      "<div class=\"booking\"><span class=\"tadpole\"></span>Booked 28 times today</div>\n",
      "<div class=\"booking\"><span class=\"tadpole\"></span>Booked 32 times today</div>\n",
      "<div class=\"booking\"><span class=\"tadpole\"></span>Booked 10 times today</div>\n",
      "<div class=\"booking\"><span class=\"tadpole\"></span>Booked 18 times today</div>\n",
      "<div class=\"booking\"><span class=\"tadpole\"></span>Booked 137 times today</div>\n",
      "<div class=\"booking\"><span class=\"tadpole\"></span>Booked 28 times today</div>\n",
      "<div class=\"booking\"><span class=\"tadpole\"></span>Booked 6 times today</div>\n",
      "<div class=\"booking\"><span class=\"tadpole\"></span>Booked 9 times today</div>\n",
      "<div class=\"booking\"><span class=\"tadpole\"></span>Booked 47 times today</div>\n",
      "<div class=\"booking\"><span class=\"tadpole\"></span>Booked 9 times today</div>\n",
      "<div class=\"booking\"><span class=\"tadpole\"></span>Booked 16 times today</div>\n",
      "<div class=\"booking\"><span class=\"tadpole\"></span>Booked 16 times today</div>\n",
      "<div class=\"booking\"><span class=\"tadpole\"></span>Booked 52 times today</div>\n",
      "<div class=\"booking\"><span class=\"tadpole\"></span>Booked 21 times today</div>\n",
      "<div class=\"booking\"><span class=\"tadpole\"></span>Booked 22 times today</div>\n",
      "<div class=\"booking\"><span class=\"tadpole\"></span>Booked 38 times today</div>\n",
      "<div class=\"booking\"><span class=\"tadpole\"></span>Booked 9 times today</div>\n",
      "<div class=\"booking\"><span class=\"tadpole\"></span>Booked 5 times today</div>\n",
      "<div class=\"booking\"><span class=\"tadpole\"></span>Booked 18 times today</div>\n",
      "<div class=\"booking\"><span class=\"tadpole\"></span>Booked 22 times today</div>\n",
      "<div class=\"booking\"><span class=\"tadpole\"></span>Booked 7 times today</div>\n",
      "<div class=\"booking\"><span class=\"tadpole\"></span>Booked 52 times today</div>\n",
      "<div class=\"booking\"><span class=\"tadpole\"></span>Booked 22 times today</div>\n",
      "<div class=\"booking\"><span class=\"tadpole\"></span>Booked 12 times today</div>\n",
      "<div class=\"booking\"><span class=\"tadpole\"></span>Booked 47 times today</div>\n",
      "<div class=\"booking\"><span class=\"tadpole\"></span>Booked 23 times today</div>\n",
      "<div class=\"booking\"><span class=\"tadpole\"></span>Booked 19 times today</div>\n",
      "<div class=\"booking\"><span class=\"tadpole\"></span>Booked 12 times today</div>\n",
      "<div class=\"booking\"><span class=\"tadpole\"></span>Booked 23 times today</div>\n",
      "None\n",
      "<div class=\"booking\"><span class=\"tadpole\"></span>Booked 31 times today</div>\n",
      "<div class=\"booking\"><span class=\"tadpole\"></span>Booked 17 times today</div>\n",
      "<div class=\"booking\"><span class=\"tadpole\"></span>Booked 8 times today</div>\n",
      "<div class=\"booking\"><span class=\"tadpole\"></span>Booked 14 times today</div>\n",
      "<div class=\"booking\"><span class=\"tadpole\"></span>Booked 38 times today</div>\n",
      "<div class=\"booking\"><span class=\"tadpole\"></span>Booked 8 times today</div>\n",
      "<div class=\"booking\"><span class=\"tadpole\"></span>Booked 9 times today</div>\n",
      "<div class=\"booking\"><span class=\"tadpole\"></span>Booked 6 times today</div>\n",
      "<div class=\"booking\"><span class=\"tadpole\"></span>Booked 10 times today</div>\n",
      "<div class=\"booking\"><span class=\"tadpole\"></span>Booked 50 times today</div>\n",
      "<div class=\"booking\"><span class=\"tadpole\"></span>Booked 49 times today</div>\n",
      "<div class=\"booking\"><span class=\"tadpole\"></span>Booked 26 times today</div>\n",
      "<div class=\"booking\"><span class=\"tadpole\"></span>Booked 13 times today</div>\n",
      "<div class=\"booking\"><span class=\"tadpole\"></span>Booked 22 times today</div>\n",
      "<div class=\"booking\"><span class=\"tadpole\"></span>Booked 3 times today</div>\n",
      "<div class=\"booking\"><span class=\"tadpole\"></span>Booked 14 times today</div>\n",
      "<div class=\"booking\"><span class=\"tadpole\"></span>Booked 69 times today</div>\n",
      "<div class=\"booking\"><span class=\"tadpole\"></span>Booked 4 times today</div>\n",
      "<div class=\"booking\"><span class=\"tadpole\"></span>Booked 12 times today</div>\n",
      "<div class=\"booking\"><span class=\"tadpole\"></span>Booked 11 times today</div>\n",
      "<div class=\"booking\"><span class=\"tadpole\"></span>Booked 5 times today</div>\n",
      "<div class=\"booking\"><span class=\"tadpole\"></span>Booked 9 times today</div>\n",
      "<div class=\"booking\"><span class=\"tadpole\"></span>Booked 10 times today</div>\n",
      "<div class=\"booking\"><span class=\"tadpole\"></span>Booked 29 times today</div>\n",
      "<div class=\"booking\"><span class=\"tadpole\"></span>Booked 28 times today</div>\n"
     ]
    }
   ],
   "source": [
    "# What happens when a booking is not available?\n",
    "# Print out each booking entry, using the identification code we wrote above\n",
    "\n",
    "for entry in html.find_all('div', {'class':'result content-section-list-row cf with-times'}):\n",
    "    print(entry.find('div', {'class':'booking'}))"
   ]
  },
  {
   "cell_type": "code",
   "execution_count": 54,
   "metadata": {},
   "outputs": [
    {
     "name": "stdout",
     "output_type": "stream",
     "text": [
      "None\n",
      "None\n",
      "<div class=\"booking\"><span class=\"tadpole\"></span>Booked 365 times today</div>\n",
      "<div class=\"booking\"><span class=\"tadpole\"></span>Booked 309 times today</div>\n",
      "<div class=\"booking\"><span class=\"tadpole\"></span>Booked 90 times today</div>\n",
      "<div class=\"booking\"><span class=\"tadpole\"></span>Booked 187 times today</div>\n",
      "<div class=\"booking\"><span class=\"tadpole\"></span>Booked 111 times today</div>\n",
      "<div class=\"booking\"><span class=\"tadpole\"></span>Booked 93 times today</div>\n",
      "<div class=\"booking\"><span class=\"tadpole\"></span>Booked 57 times today</div>\n",
      "<div class=\"booking\"><span class=\"tadpole\"></span>Booked 37 times today</div>\n",
      "<div class=\"booking\"><span class=\"tadpole\"></span>Booked 114 times today</div>\n",
      "<div class=\"booking\"><span class=\"tadpole\"></span>Booked 53 times today</div>\n",
      "<div class=\"booking\"><span class=\"tadpole\"></span>Booked 60 times today</div>\n",
      "<div class=\"booking\"><span class=\"tadpole\"></span>Booked 11 times today</div>\n",
      "<div class=\"booking\"><span class=\"tadpole\"></span>Booked 37 times today</div>\n",
      "<div class=\"booking\"><span class=\"tadpole\"></span>Booked 27 times today</div>\n",
      "<div class=\"booking\"><span class=\"tadpole\"></span>Booked 48 times today</div>\n",
      "<div class=\"booking\"><span class=\"tadpole\"></span>Booked 16 times today</div>\n",
      "<div class=\"booking\"><span class=\"tadpole\"></span>Booked 54 times today</div>\n",
      "<div class=\"booking\"><span class=\"tadpole\"></span>Booked 43 times today</div>\n",
      "<div class=\"booking\"><span class=\"tadpole\"></span>Booked 69 times today</div>\n",
      "<div class=\"booking\"><span class=\"tadpole\"></span>Booked 62 times today</div>\n",
      "<div class=\"booking\"><span class=\"tadpole\"></span>Booked 6 times today</div>\n",
      "<div class=\"booking\"><span class=\"tadpole\"></span>Booked 44 times today</div>\n",
      "<div class=\"booking\"><span class=\"tadpole\"></span>Booked 29 times today</div>\n",
      "<div class=\"booking\"><span class=\"tadpole\"></span>Booked 96 times today</div>\n",
      "<div class=\"booking\"><span class=\"tadpole\"></span>Booked 51 times today</div>\n",
      "<div class=\"booking\"><span class=\"tadpole\"></span>Booked 53 times today</div>\n",
      "<div class=\"booking\"><span class=\"tadpole\"></span>Booked 11 times today</div>\n",
      "<div class=\"booking\"><span class=\"tadpole\"></span>Booked 66 times today</div>\n",
      "<div class=\"booking\"><span class=\"tadpole\"></span>Booked 21 times today</div>\n",
      "<div class=\"booking\"><span class=\"tadpole\"></span>Booked 62 times today</div>\n",
      "<div class=\"booking\"><span class=\"tadpole\"></span>Booked 93 times today</div>\n",
      "<div class=\"booking\"><span class=\"tadpole\"></span>Booked 56 times today</div>\n",
      "<div class=\"booking\"><span class=\"tadpole\"></span>Booked 13 times today</div>\n",
      "<div class=\"booking\"><span class=\"tadpole\"></span>Booked 43 times today</div>\n",
      "<div class=\"booking\"><span class=\"tadpole\"></span>Booked 72 times today</div>\n",
      "<div class=\"booking\"><span class=\"tadpole\"></span>Booked 60 times today</div>\n",
      "<div class=\"booking\"><span class=\"tadpole\"></span>Booked 57 times today</div>\n",
      "<div class=\"booking\"><span class=\"tadpole\"></span>Booked 15 times today</div>\n",
      "<div class=\"booking\"><span class=\"tadpole\"></span>Booked 76 times today</div>\n",
      "<div class=\"booking\"><span class=\"tadpole\"></span>Booked 16 times today</div>\n",
      "<div class=\"booking\"><span class=\"tadpole\"></span>Booked 32 times today</div>\n",
      "<div class=\"booking\"><span class=\"tadpole\"></span>Booked 6 times today</div>\n",
      "<div class=\"booking\"><span class=\"tadpole\"></span>Booked 56 times today</div>\n",
      "<div class=\"booking\"><span class=\"tadpole\"></span>Booked 28 times today</div>\n",
      "<div class=\"booking\"><span class=\"tadpole\"></span>Booked 32 times today</div>\n",
      "<div class=\"booking\"><span class=\"tadpole\"></span>Booked 10 times today</div>\n",
      "<div class=\"booking\"><span class=\"tadpole\"></span>Booked 18 times today</div>\n",
      "<div class=\"booking\"><span class=\"tadpole\"></span>Booked 137 times today</div>\n",
      "<div class=\"booking\"><span class=\"tadpole\"></span>Booked 28 times today</div>\n",
      "<div class=\"booking\"><span class=\"tadpole\"></span>Booked 6 times today</div>\n",
      "<div class=\"booking\"><span class=\"tadpole\"></span>Booked 9 times today</div>\n",
      "<div class=\"booking\"><span class=\"tadpole\"></span>Booked 47 times today</div>\n",
      "<div class=\"booking\"><span class=\"tadpole\"></span>Booked 9 times today</div>\n",
      "<div class=\"booking\"><span class=\"tadpole\"></span>Booked 16 times today</div>\n",
      "<div class=\"booking\"><span class=\"tadpole\"></span>Booked 16 times today</div>\n",
      "<div class=\"booking\"><span class=\"tadpole\"></span>Booked 52 times today</div>\n",
      "<div class=\"booking\"><span class=\"tadpole\"></span>Booked 21 times today</div>\n",
      "<div class=\"booking\"><span class=\"tadpole\"></span>Booked 22 times today</div>\n",
      "<div class=\"booking\"><span class=\"tadpole\"></span>Booked 38 times today</div>\n",
      "<div class=\"booking\"><span class=\"tadpole\"></span>Booked 9 times today</div>\n",
      "<div class=\"booking\"><span class=\"tadpole\"></span>Booked 5 times today</div>\n",
      "<div class=\"booking\"><span class=\"tadpole\"></span>Booked 18 times today</div>\n",
      "<div class=\"booking\"><span class=\"tadpole\"></span>Booked 22 times today</div>\n",
      "<div class=\"booking\"><span class=\"tadpole\"></span>Booked 7 times today</div>\n",
      "<div class=\"booking\"><span class=\"tadpole\"></span>Booked 52 times today</div>\n",
      "<div class=\"booking\"><span class=\"tadpole\"></span>Booked 22 times today</div>\n",
      "<div class=\"booking\"><span class=\"tadpole\"></span>Booked 12 times today</div>\n",
      "<div class=\"booking\"><span class=\"tadpole\"></span>Booked 47 times today</div>\n",
      "<div class=\"booking\"><span class=\"tadpole\"></span>Booked 23 times today</div>\n",
      "<div class=\"booking\"><span class=\"tadpole\"></span>Booked 19 times today</div>\n",
      "<div class=\"booking\"><span class=\"tadpole\"></span>Booked 12 times today</div>\n",
      "<div class=\"booking\"><span class=\"tadpole\"></span>Booked 23 times today</div>\n",
      "None\n",
      "<div class=\"booking\"><span class=\"tadpole\"></span>Booked 31 times today</div>\n",
      "<div class=\"booking\"><span class=\"tadpole\"></span>Booked 17 times today</div>\n",
      "<div class=\"booking\"><span class=\"tadpole\"></span>Booked 8 times today</div>\n",
      "<div class=\"booking\"><span class=\"tadpole\"></span>Booked 14 times today</div>\n",
      "<div class=\"booking\"><span class=\"tadpole\"></span>Booked 38 times today</div>\n",
      "<div class=\"booking\"><span class=\"tadpole\"></span>Booked 8 times today</div>\n",
      "<div class=\"booking\"><span class=\"tadpole\"></span>Booked 9 times today</div>\n",
      "<div class=\"booking\"><span class=\"tadpole\"></span>Booked 6 times today</div>\n",
      "<div class=\"booking\"><span class=\"tadpole\"></span>Booked 10 times today</div>\n",
      "<div class=\"booking\"><span class=\"tadpole\"></span>Booked 50 times today</div>\n",
      "<div class=\"booking\"><span class=\"tadpole\"></span>Booked 49 times today</div>\n",
      "<div class=\"booking\"><span class=\"tadpole\"></span>Booked 26 times today</div>\n",
      "<div class=\"booking\"><span class=\"tadpole\"></span>Booked 13 times today</div>\n",
      "<div class=\"booking\"><span class=\"tadpole\"></span>Booked 22 times today</div>\n",
      "<div class=\"booking\"><span class=\"tadpole\"></span>Booked 3 times today</div>\n",
      "<div class=\"booking\"><span class=\"tadpole\"></span>Booked 14 times today</div>\n",
      "<div class=\"booking\"><span class=\"tadpole\"></span>Booked 69 times today</div>\n",
      "<div class=\"booking\"><span class=\"tadpole\"></span>Booked 4 times today</div>\n",
      "<div class=\"booking\"><span class=\"tadpole\"></span>Booked 12 times today</div>\n",
      "<div class=\"booking\"><span class=\"tadpole\"></span>Booked 11 times today</div>\n",
      "<div class=\"booking\"><span class=\"tadpole\"></span>Booked 5 times today</div>\n",
      "<div class=\"booking\"><span class=\"tadpole\"></span>Booked 9 times today</div>\n",
      "<div class=\"booking\"><span class=\"tadpole\"></span>Booked 10 times today</div>\n",
      "<div class=\"booking\"><span class=\"tadpole\"></span>Booked 29 times today</div>\n",
      "<div class=\"booking\"><span class=\"tadpole\"></span>Booked 28 times today</div>\n"
     ]
    }
   ],
   "source": [
    "# We want to only retrieve the text of the bookings.\n",
    "# But what would happen if we just naively print the text of each node?\n",
    "for entry in html.find_all('div', {'class':'result content-section-list-row cf with-times'}):\n",
    "    print(entry.find('div', {'class':'booking'}))   # try adding .text"
   ]
  },
  {
   "cell_type": "markdown",
   "metadata": {},
   "source": [
    "What do you notice takes the place when booking is not found?\n",
    "\n",
    "We could use exception handling (`try`/`except` blocks) to resolve this. However, exceptions should only be used to handle rare or unexpected errors -- never for normal program flow.\n",
    "\n",
    "In this case, we expect that some entries will be zero. So, we can just use an `if` statement that tests whether there are any `divs` present; if not, display `'ZERO'`. Here's a demo:"
   ]
  },
  {
   "cell_type": "code",
   "execution_count": 55,
   "metadata": {},
   "outputs": [
    {
     "name": "stdout",
     "output_type": "stream",
     "text": [
      "ZERO\n",
      "ZERO\n",
      "Booked 365 times today\n",
      "Booked 309 times today\n",
      "Booked 90 times today\n",
      "Booked 187 times today\n",
      "Booked 111 times today\n",
      "Booked 93 times today\n",
      "Booked 57 times today\n",
      "Booked 37 times today\n",
      "Booked 114 times today\n",
      "Booked 53 times today\n",
      "Booked 60 times today\n",
      "Booked 11 times today\n",
      "Booked 37 times today\n",
      "Booked 27 times today\n",
      "Booked 48 times today\n",
      "Booked 16 times today\n",
      "Booked 54 times today\n",
      "Booked 43 times today\n",
      "Booked 69 times today\n",
      "Booked 62 times today\n",
      "Booked 6 times today\n",
      "Booked 44 times today\n",
      "Booked 29 times today\n",
      "Booked 96 times today\n",
      "Booked 51 times today\n",
      "Booked 53 times today\n",
      "Booked 11 times today\n",
      "Booked 66 times today\n",
      "Booked 21 times today\n",
      "Booked 62 times today\n",
      "Booked 93 times today\n",
      "Booked 56 times today\n",
      "Booked 13 times today\n",
      "Booked 43 times today\n",
      "Booked 72 times today\n",
      "Booked 60 times today\n",
      "Booked 57 times today\n",
      "Booked 15 times today\n",
      "Booked 76 times today\n",
      "Booked 16 times today\n",
      "Booked 32 times today\n",
      "Booked 6 times today\n",
      "Booked 56 times today\n",
      "Booked 28 times today\n",
      "Booked 32 times today\n",
      "Booked 10 times today\n",
      "Booked 18 times today\n",
      "Booked 137 times today\n",
      "Booked 28 times today\n",
      "Booked 6 times today\n",
      "Booked 9 times today\n",
      "Booked 47 times today\n",
      "Booked 9 times today\n",
      "Booked 16 times today\n",
      "Booked 16 times today\n",
      "Booked 52 times today\n",
      "Booked 21 times today\n",
      "Booked 22 times today\n",
      "Booked 38 times today\n",
      "Booked 9 times today\n",
      "Booked 5 times today\n",
      "Booked 18 times today\n",
      "Booked 22 times today\n",
      "Booked 7 times today\n",
      "Booked 52 times today\n",
      "Booked 22 times today\n",
      "Booked 12 times today\n",
      "Booked 47 times today\n",
      "Booked 23 times today\n",
      "Booked 19 times today\n",
      "Booked 12 times today\n",
      "Booked 23 times today\n",
      "ZERO\n",
      "Booked 31 times today\n",
      "Booked 17 times today\n",
      "Booked 8 times today\n",
      "Booked 14 times today\n",
      "Booked 38 times today\n",
      "Booked 8 times today\n",
      "Booked 9 times today\n",
      "Booked 6 times today\n",
      "Booked 10 times today\n",
      "Booked 50 times today\n",
      "Booked 49 times today\n",
      "Booked 26 times today\n",
      "Booked 13 times today\n",
      "Booked 22 times today\n",
      "Booked 3 times today\n",
      "Booked 14 times today\n",
      "Booked 69 times today\n",
      "Booked 4 times today\n",
      "Booked 12 times today\n",
      "Booked 11 times today\n",
      "Booked 5 times today\n",
      "Booked 9 times today\n",
      "Booked 10 times today\n",
      "Booked 29 times today\n",
      "Booked 28 times today\n"
     ]
    }
   ],
   "source": [
    "# if we find the element we want, we print it. Otherwise, we print 'ZERO'\n",
    "for entry in html.find_all('div', {'class':'result content-section-list-row cf with-times'}):\n",
    "    booking_tag = entry.find('div', {'class':'booking'})\n",
    "    \n",
    "    if booking_tag:\n",
    "        print(booking_tag.text)\n",
    "    else:\n",
    "        print('ZERO')"
   ]
  },
  {
   "cell_type": "markdown",
   "metadata": {},
   "source": [
    "After previously completing this, we observed that all other elements WILL be returned. This means we do not have to always handle these cases.\n",
    "\n",
    "<a id=\"challenge-pandas\"></a>\n",
    "### Challenge: Use Pandas to create a DataFrame of bookings\n",
    "\n",
    "However, the onus is on you to now put all the pieces together.\n",
    "\n",
    "Loop through each entry. For each entry, grab the relevant information we want (name, location, price, bookings). Produce a dataframe with the columns \"name\",\"location\",\"price\",\"bookings\" that contains the 100 entries we would like."
   ]
  },
  {
   "cell_type": "code",
   "execution_count": 56,
   "metadata": {},
   "outputs": [],
   "source": [
    "import pandas as pd"
   ]
  },
  {
   "cell_type": "code",
   "execution_count": 57,
   "metadata": {},
   "outputs": [],
   "source": [
    "# I'm going to create my empty df first\n",
    "dc_eats = pd.DataFrame(columns=[\"name\",\"location\",\"price\",\"bookings\"])"
   ]
  },
  {
   "cell_type": "code",
   "execution_count": 58,
   "metadata": {},
   "outputs": [],
   "source": [
    "# Put code here that populates the DataFrame using Selenium and BeautifulSoup!"
   ]
  },
  {
   "cell_type": "code",
   "execution_count": 59,
   "metadata": {},
   "outputs": [
    {
     "data": {
      "text/html": [
       "<div>\n",
       "<style scoped>\n",
       "    .dataframe tbody tr th:only-of-type {\n",
       "        vertical-align: middle;\n",
       "    }\n",
       "\n",
       "    .dataframe tbody tr th {\n",
       "        vertical-align: top;\n",
       "    }\n",
       "\n",
       "    .dataframe thead th {\n",
       "        text-align: right;\n",
       "    }\n",
       "</style>\n",
       "<table border=\"1\" class=\"dataframe\">\n",
       "  <thead>\n",
       "    <tr style=\"text-align: right;\">\n",
       "      <th></th>\n",
       "      <th>name</th>\n",
       "      <th>location</th>\n",
       "      <th>price</th>\n",
       "      <th>bookings</th>\n",
       "    </tr>\n",
       "  </thead>\n",
       "  <tbody>\n",
       "  </tbody>\n",
       "</table>\n",
       "</div>"
      ],
      "text/plain": [
       "Empty DataFrame\n",
       "Columns: [name, location, price, bookings]\n",
       "Index: []"
      ]
     },
     "execution_count": 59,
     "metadata": {},
     "output_type": "execute_result"
    }
   ],
   "source": [
    "# check out our work\n",
    "dc_eats.head()"
   ]
  },
  {
   "cell_type": "markdown",
   "metadata": {},
   "source": [
    "Awesome! We succeeded.\n",
    "\n",
    "<a id=\"selenium-typing\"></a>\n",
    "### Auto-typing using Selenium\n",
    "\n",
    "Now, let's explore some of the other functionality of a webdriver. We've barely scratched the surface."
   ]
  },
  {
   "cell_type": "code",
   "execution_count": 60,
   "metadata": {},
   "outputs": [],
   "source": [
    "# we can send keys as well\n",
    "\n",
    "from selenium.webdriver.common.keys import Keys"
   ]
  },
  {
   "cell_type": "code",
   "execution_count": 61,
   "metadata": {},
   "outputs": [],
   "source": [
    "# open Firefox\n",
    "driver = webdriver.Firefox()\n",
    "\n",
    "# visit Python\n",
    "driver.get(\"http://www.python.org\")\n",
    "\n",
    "# verify we're in the right place\n",
    "assert \"Python\" in driver.title"
   ]
  },
  {
   "cell_type": "markdown",
   "metadata": {},
   "source": [
    "Let's try automatedly typing `pycon` in the search box and hitting the return key:"
   ]
  },
  {
   "cell_type": "code",
   "execution_count": 62,
   "metadata": {},
   "outputs": [],
   "source": [
    "# find the search position\n",
    "elem = driver.find_element_by_name(\"q\")\n",
    "\n",
    "# clear it\n",
    "elem.clear()\n",
    "\n",
    "# type in pycon\n",
    "elem.send_keys(\"pycon\")\n",
    "\n",
    "# send those keys\n",
    "elem.send_keys(Keys.RETURN)"
   ]
  },
  {
   "cell_type": "code",
   "execution_count": 63,
   "metadata": {},
   "outputs": [],
   "source": [
    "# close\n",
    "driver.close()"
   ]
  },
  {
   "cell_type": "code",
   "execution_count": 64,
   "metadata": {},
   "outputs": [],
   "source": [
    "# all at once:\n",
    "driver = webdriver.Firefox()\n",
    "driver.get(\"http://www.python.org\")\n",
    "assert \"Python\" in driver.title\n",
    "\n",
    "elem = driver.find_element_by_name(\"q\")\n",
    "elem.clear()\n",
    "elem.send_keys(\"pycon\")\n",
    "elem.send_keys(Keys.RETURN)\n",
    "#assert \"No results found.\" not in driver.page_source\n",
    "driver.close()"
   ]
  },
  {
   "cell_type": "markdown",
   "metadata": {},
   "source": [
    "The above example (and many others) are available in the Selenium docs: http://selenium-python.readthedocs.io/getting-started.html\n",
    "\n",
    "What is especially important is exploring functionality like locating elements: http://selenium-python.readthedocs.io/locating-elements.html#locating-elements\n",
    "\n",
    "FAQ:\n",
    "http://selenium-python.readthedocs.io/faq.html"
   ]
  },
  {
   "cell_type": "markdown",
   "metadata": {},
   "source": [
    "### Summary\n",
    "\n",
    "In this lesson, we used the Beautiful Soup library to locate elements on a website then scrape their text. We also used the Selenium headless browser to run JavaScript first before retrieving the page contents."
   ]
  },
  {
   "cell_type": "code",
   "execution_count": null,
   "metadata": {
    "collapsed": true
   },
   "outputs": [],
   "source": []
  }
 ],
 "metadata": {
  "anaconda-cloud": {},
  "kernelspec": {
   "display_name": "Python 3",
   "language": "python",
   "name": "python3"
  },
  "language_info": {
   "codemirror_mode": {
    "name": "ipython",
    "version": 3
   },
   "file_extension": ".py",
   "mimetype": "text/x-python",
   "name": "python",
   "nbconvert_exporter": "python",
   "pygments_lexer": "ipython3",
   "version": "3.6.4"
  }
 },
 "nbformat": 4,
 "nbformat_minor": 1
}
